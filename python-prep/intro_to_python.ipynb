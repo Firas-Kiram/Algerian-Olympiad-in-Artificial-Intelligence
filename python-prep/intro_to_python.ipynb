{
  "cells": [
    {
      "cell_type": "markdown",
      "metadata": {
        "id": "irgOWNuvFG6q"
      },
      "source": [
        "<a name='0'></a>\n",
        "\n",
        "# Basic of Python Programming\n",
        "\n",
        "This is a practical introduction to Python Programming Language. Python is an interpreted, high-level, and general purpose programming language that was designed for efficiency, readability, and simplicity.\n"
      ]
    },
    {
      "cell_type": "markdown",
      "metadata": {
        "id": "VSDXxNBAjXlG"
      },
      "source": [
        "\n",
        "\n",
        "This introduction will cover the following:\n",
        "\n",
        "\n",
        "* [1. Variables, Numbers and Strings](#1)\n",
        "    * [1.1 Variables](#1-1)\n",
        "    * [1.2 Numbers](#1-2)\n",
        "    * [1.3 Strings](#1-3)\n",
        "* [2. Data Structures](#2)\n",
        "    * [2.1 Lists](#2-1)\n",
        "    * [2.2 Dictionaries](#2-2)\n",
        "    * [2.3 Tuples](#2-3)\n",
        "    * [2.4 Sets](#2-4)\n",
        "* [3. Comparison and Logic Operators](#3)\n",
        "* [4. Control Flow](#4)\n",
        "    * [4.1 If Condition](#4-1)\n",
        "    * [4.2 For Loop](#4-2)\n",
        "    * [4.3 While Loop](#4-3)\n",
        "* [5. Functions](#5)\n",
        "* [6. Lambda Functions](#6)\n",
        "* [7. Built in functions](#7)\n",
        "    * [7.1 Map Function](#7-1)\n",
        "    * [7.2 Filter Function](#7-2)\n",
        "\n",
        "* [8. More Useful Python Stuff](#8)\n",
        "    * [8.1 List Comprehension](#8-1)\n",
        "    * [8.2 Enumerate Function](#8-2)\n",
        "    * [8.3 Zip Function](#8-3)"
      ]
    },
    {
      "cell_type": "markdown",
      "metadata": {
        "id": "LQkPE-1-f4_w"
      },
      "source": [
        "<a name='1'></a>\n",
        "\n",
        "## 1. Variables, Numbers, and Strings"
      ]
    },
    {
      "cell_type": "markdown",
      "metadata": {
        "id": "rhwPy_BBjXlJ"
      },
      "source": [
        "<a name='1-1'></a>\n",
        "\n",
        "\n",
        "### 1.1 Variables"
      ]
    },
    {
      "cell_type": "code",
      "execution_count": 11,
      "metadata": {
        "id": "rpDCNUAigQ7T",
        "colab": {
          "base_uri": "https://localhost:8080/"
        },
        "outputId": "476511eb-bd4c-40eb-de8d-ef3abd61ab15"
      },
      "outputs": [
        {
          "output_type": "stream",
          "name": "stdout",
          "text": [
            "5\n",
            "Firas\n"
          ]
        },
        {
          "output_type": "execute_result",
          "data": {
            "text/plain": [
              "str"
            ]
          },
          "metadata": {},
          "execution_count": 11
        }
      ],
      "source": [
        "\n",
        "# We use # to add comment, it won’t run or affect the code\n",
        "# Python has no command for declaring a variable.\n",
        "\n",
        "x = 5\n",
        "y = \"Firas\"\n",
        "print(x)\n",
        "print(y)\n",
        "# we can see the type of y by :\n",
        "type(y)"
      ]
    },
    {
      "cell_type": "code",
      "source": [
        "# Variables do not need to be declared with any particular type, and can even change type after they have been set.\n",
        "x = str(3)    # x will be '3' -> this will cast our number 3 into string '3'\n",
        "y = int(3)    # y will be 3 -> normal integer\n",
        "z = float(3)  # z will be 3.0\n",
        "print(x , type(x))\n",
        "print(y , type(y))\n",
        "print(z , type(z))"
      ],
      "metadata": {
        "colab": {
          "base_uri": "https://localhost:8080/"
        },
        "id": "ebmyeLH6rBw6",
        "outputId": "519ff58d-95d6-4b50-e64e-9bc63e34a1da"
      },
      "execution_count": 10,
      "outputs": [
        {
          "output_type": "stream",
          "name": "stdout",
          "text": [
            "3 <class 'str'>\n",
            "3 <class 'int'>\n",
            "3.0 <class 'float'>\n"
          ]
        }
      ]
    },
    {
      "cell_type": "markdown",
      "metadata": {
        "id": "QKqOitvHiJGq"
      },
      "source": [
        "<a name='1-2'></a>\n",
        "\n",
        "### 1.2 Numbers\n",
        "\n",
        "There are three numeric types in Python :\n",
        "* int\n",
        "* float\n",
        "* complex\n"
      ]
    },
    {
      "cell_type": "code",
      "execution_count": 12,
      "metadata": {
        "colab": {
          "base_uri": "https://localhost:8080/"
        },
        "id": "D4k_6MQvDGyw",
        "outputId": "da7457c6-bfdc-404c-dc87-ac251fbdf344"
      },
      "outputs": [
        {
          "output_type": "stream",
          "name": "stdout",
          "text": [
            "1 <class 'int'>\n",
            "2.8 <class 'float'>\n",
            "4j <class 'complex'>\n"
          ]
        }
      ],
      "source": [
        "x = 1    # int\n",
        "y = 2.8  # float\n",
        "z = 4j   # complex\n",
        "print(x , type(x))\n",
        "print(y , type(y))\n",
        "print(z , type(z))"
      ]
    },
    {
      "cell_type": "code",
      "execution_count": null,
      "metadata": {
        "colab": {
          "base_uri": "https://localhost:8080/"
        },
        "id": "ylRf_AakiOX5",
        "outputId": "af61036a-51e4-471a-fc9f-6bbb5ed2bb7e"
      },
      "outputs": [
        {
          "data": {
            "text/plain": [
              "101"
            ]
          },
          "execution_count": 5,
          "metadata": {},
          "output_type": "execute_result"
        }
      ],
      "source": [
        "# Numeric Operations\n",
        "\n",
        "# Addition x + y\n",
        "\n",
        "1 + 100"
      ]
    },
    {
      "cell_type": "code",
      "execution_count": null,
      "metadata": {
        "colab": {
          "base_uri": "https://localhost:8080/"
        },
        "id": "z8RlLLQRiclC",
        "outputId": "329c4f62-fb29-4cdb-f2a8-11bda7294f48"
      },
      "outputs": [
        {
          "data": {
            "text/plain": [
              "100"
            ]
          },
          "execution_count": 6,
          "metadata": {},
          "output_type": "execute_result"
        }
      ],
      "source": [
        "# Multiplication x * y\n",
        "\n",
        "1 * 100"
      ]
    },
    {
      "cell_type": "code",
      "execution_count": null,
      "metadata": {
        "colab": {
          "base_uri": "https://localhost:8080/"
        },
        "id": "j3Z7GFSjiuJ9",
        "outputId": "4b0715e2-c877-4927-87b0-16da07b7fe99"
      },
      "outputs": [
        {
          "data": {
            "text/plain": [
              "0.01"
            ]
          },
          "execution_count": 7,
          "metadata": {},
          "output_type": "execute_result"
        }
      ],
      "source": [
        "# Division x / y\n",
        "\n",
        "1 / 100"
      ]
    },
    {
      "cell_type": "code",
      "execution_count": null,
      "metadata": {
        "id": "OJSlxSfLjXlR",
        "outputId": "0b6ed687-6042-4a28-9b52-a86d43636d59"
      },
      "outputs": [
        {
          "data": {
            "text/plain": [
              "3"
            ]
          },
          "execution_count": 8,
          "metadata": {},
          "output_type": "execute_result"
        }
      ],
      "source": [
        "# Floor division x // y\n",
        "\n",
        "7 // 2"
      ]
    },
    {
      "cell_type": "code",
      "execution_count": 14,
      "metadata": {
        "colab": {
          "base_uri": "https://localhost:8080/"
        },
        "id": "2TC5FUgKizLU",
        "outputId": "4d22eba9-de24-4019-8011-a6d20f95c647"
      },
      "outputs": [
        {
          "output_type": "execute_result",
          "data": {
            "text/plain": [
              "4"
            ]
          },
          "metadata": {},
          "execution_count": 14
        }
      ],
      "source": [
        "# Modular (%)\n",
        "# This is the remainder or a value remaining after dividing two numbers\n",
        "# 100 / 6 = 16 , remainder is 4\n",
        "\n",
        "100 % 6"
      ]
    },
    {
      "cell_type": "code",
      "execution_count": 15,
      "metadata": {
        "colab": {
          "base_uri": "https://localhost:8080/"
        },
        "id": "LEXWCtDTAjxN",
        "outputId": "8447d25b-939a-43da-9d1a-006ac3f97625"
      },
      "outputs": [
        {
          "output_type": "execute_result",
          "data": {
            "text/plain": [
              "32"
            ]
          },
          "metadata": {},
          "execution_count": 15
        }
      ],
      "source": [
        "# Powers\n",
        "\n",
        "2 ** 5\n",
        "\n",
        "# note that : 1 power any number is 1 always"
      ]
    },
    {
      "cell_type": "code",
      "execution_count": null,
      "metadata": {
        "colab": {
          "base_uri": "https://localhost:8080/"
        },
        "id": "UfhAyildkFFn",
        "outputId": "65333e6c-fba8-4811-8279-f97a4182a8df"
      },
      "outputs": [
        {
          "name": "stdout",
          "output_type": "stream",
          "text": [
            "101\n"
          ]
        }
      ],
      "source": [
        "# We use print() to display the results of the operations or a variable\n",
        "\n",
        "print(1 + 100)"
      ]
    },
    {
      "cell_type": "markdown",
      "metadata": {
        "id": "eHvcuGQoBCTU"
      },
      "source": [
        "<a name='1-3'></a>\n",
        "\n",
        "### 1.3 Strings\n",
        "\n",
        "Python supports strings. String is a sequence of characters.\n",
        "\n",
        "Strings in python are surrounded by either single quotation marks, or double quotation marks.\n",
        "\n",
        "'hello' is the same as \"hello\".\n",
        "\n",
        "```\n",
        "\"text inside here will be a string\"\n",
        "'text inside here will also be a string'\n",
        "```\n"
      ]
    },
    {
      "cell_type": "code",
      "execution_count": 17,
      "metadata": {
        "id": "VNjcQxVRj3qu"
      },
      "outputs": [],
      "source": [
        "str_var = 'Firas'\n",
        "str_var2 = 'Hachem'"
      ]
    },
    {
      "cell_type": "code",
      "execution_count": 18,
      "metadata": {
        "colab": {
          "base_uri": "https://localhost:8080/",
          "height": 36
        },
        "id": "Vu-n4cy1F9uj",
        "outputId": "f6836aba-a5d2-4d7d-905c-a6e2e67a3e13"
      },
      "outputs": [
        {
          "output_type": "execute_result",
          "data": {
            "text/plain": [
              "'FirasHachem'"
            ],
            "application/vnd.google.colaboratory.intrinsic+json": {
              "type": "string"
            }
          },
          "metadata": {},
          "execution_count": 18
        }
      ],
      "source": [
        "str_var + str_var2"
      ]
    },
    {
      "cell_type": "code",
      "execution_count": 19,
      "metadata": {
        "colab": {
          "base_uri": "https://localhost:8080/",
          "height": 36
        },
        "id": "177djVcAj8oL",
        "outputId": "e2278eb4-771c-4227-fa64-e80a195772f4"
      },
      "outputs": [
        {
          "output_type": "execute_result",
          "data": {
            "text/plain": [
              "'Firas and Hachem.'"
            ],
            "application/vnd.google.colaboratory.intrinsic+json": {
              "type": "string"
            }
          },
          "metadata": {},
          "execution_count": 19
        }
      ],
      "source": [
        "str_var + ' ' + 'and' + ' '+ str_var2 + '.'"
      ]
    },
    {
      "cell_type": "code",
      "execution_count": null,
      "metadata": {
        "id": "lzKgNFf_jXlU",
        "outputId": "df8b82b1-fd95-4500-f618-cf77350c7170"
      },
      "outputs": [
        {
          "data": {
            "text/plain": [
              "False"
            ]
          },
          "execution_count": 19,
          "metadata": {},
          "output_type": "execute_result"
        }
      ],
      "source": [
        "# We can also compare strings to check whether they are similar.\n",
        "# If they are similar, case by case, comparison operator returns true. Else false\n",
        "\n",
        "\"A string\" == \"a string\""
      ]
    },
    {
      "cell_type": "code",
      "execution_count": null,
      "metadata": {
        "id": "qN4IMygojXlU",
        "outputId": "e63a8e1b-e491-4d04-b334-47a10b4a790b"
      },
      "outputs": [
        {
          "data": {
            "text/plain": [
              "True"
            ]
          },
          "execution_count": 20,
          "metadata": {},
          "output_type": "execute_result"
        }
      ],
      "source": [
        "\"A string\" == \"A string\""
      ]
    },
    {
      "cell_type": "markdown",
      "metadata": {
        "id": "-8qJK4h8n8_P"
      },
      "source": [
        "#### Strings Methods\n",
        "\n",
        "Python provides many built-in methods for manipulating strings. As a programmer, knowing typical string methods and how to use them will give you a real leverage when working with strings.\n",
        "\n",
        "There are many string methods. You can find them [here](https://docs.python.org/2.5/lib/string-methods.html). Let's see some common methods."
      ]
    },
    {
      "cell_type": "code",
      "execution_count": null,
      "metadata": {
        "id": "xF6Kk0Vco2Uh"
      },
      "outputs": [],
      "source": [
        "sentence = 'This IS A String'"
      ]
    },
    {
      "cell_type": "code",
      "execution_count": null,
      "metadata": {
        "colab": {
          "base_uri": "https://localhost:8080/",
          "height": 35
        },
        "id": "xgYf8qO2o2Uj",
        "outputId": "b28989dc-b99e-4c6b-c5eb-9861902a314f"
      },
      "outputs": [
        {
          "data": {
            "text/plain": [
              "'This is a string'"
            ]
          },
          "execution_count": 22,
          "metadata": {},
          "output_type": "execute_result"
        }
      ],
      "source": [
        "# Case capitalization\n",
        "# It return the string with first letter capitalized and the rest being lower cases.\n",
        "\n",
        "sentence.capitalize()"
      ]
    },
    {
      "cell_type": "code",
      "execution_count": null,
      "metadata": {
        "colab": {
          "base_uri": "https://localhost:8080/",
          "height": 35
        },
        "id": "OqbKJIqjpFUv",
        "outputId": "6affdb88-344d-41f2-952f-55154a8f883c"
      },
      "outputs": [
        {
          "data": {
            "text/plain": [
              "'This Is A String To Be Titled'"
            ]
          },
          "execution_count": 23,
          "metadata": {},
          "output_type": "execute_result"
        }
      ],
      "source": [
        "# Given a string, convert it into title (each word is capitalized)\n",
        "\n",
        "sentence_2 = 'this is a string to be titled'\n",
        "sentence_2.title()"
      ]
    },
    {
      "cell_type": "code",
      "execution_count": null,
      "metadata": {
        "colab": {
          "base_uri": "https://localhost:8080/",
          "height": 35
        },
        "id": "vUvd51eGpFUw",
        "outputId": "1820345d-e13e-4539-e2c4-edde8a62105e"
      },
      "outputs": [
        {
          "data": {
            "text/plain": [
              "'THIS IS A STRING'"
            ]
          },
          "execution_count": 24,
          "metadata": {},
          "output_type": "execute_result"
        }
      ],
      "source": [
        "# Converting the string to upper case\n",
        "\n",
        "sentence.upper()"
      ]
    },
    {
      "cell_type": "code",
      "execution_count": null,
      "metadata": {
        "colab": {
          "base_uri": "https://localhost:8080/",
          "height": 35
        },
        "id": "msoUtVcfpFUx",
        "outputId": "c4ba7416-6f2a-4d96-f428-d66495b17449"
      },
      "outputs": [
        {
          "data": {
            "text/plain": [
              "'this is a string'"
            ]
          },
          "execution_count": 25,
          "metadata": {},
          "output_type": "execute_result"
        }
      ],
      "source": [
        "# Converting the string to upper case\n",
        "\n",
        "sentence.lower()"
      ]
    },
    {
      "cell_type": "code",
      "execution_count": null,
      "metadata": {
        "colab": {
          "base_uri": "https://localhost:8080/"
        },
        "id": "lddBz3mFpFUx",
        "outputId": "d0a16ebc-5260-417f-ff97-00bfb902a4d9"
      },
      "outputs": [
        {
          "data": {
            "text/plain": [
              "['This', 'IS', 'A', 'String']"
            ]
          },
          "execution_count": 26,
          "metadata": {},
          "output_type": "execute_result"
        }
      ],
      "source": [
        "# Splitting the string\n",
        "\n",
        "sentence.split()"
      ]
    },
    {
      "cell_type": "markdown",
      "metadata": {
        "id": "v_Lb96jAjXlY"
      },
      "source": [
        "Lastly, we can use `replace()` method to replace some characters in string with another characters. Replace method takes two inputs: characters to be replaced, and new characters to be inserted in string, `replace('characters to be replaced', 'new characters')`.\n",
        "\n",
        "Example, given the string \"This movie was awesome\", replace the world `movie` with `project`."
      ]
    },
    {
      "cell_type": "code",
      "execution_count": null,
      "metadata": {
        "id": "KTC-bOEEjXlY",
        "outputId": "4c9912c1-eeb0-48c7-88cd-9a9e6a421de4"
      },
      "outputs": [
        {
          "data": {
            "text/plain": [
              "'This project was awesome'"
            ]
          },
          "execution_count": 27,
          "metadata": {},
          "output_type": "execute_result"
        }
      ],
      "source": [
        "stri = \"This movie was awesome\"\n",
        "stri.replace('movie', 'project')"
      ]
    },
    {
      "cell_type": "markdown",
      "metadata": {
        "id": "lG9ZQje1k92N"
      },
      "source": [
        "<a name='2'></a>\n",
        "## 2. Data Structures"
      ]
    },
    {
      "cell_type": "markdown",
      "metadata": {
        "id": "8ymFg52ijXll"
      },
      "source": [
        "Data structures are used to organize and store the data. Algorithms supports operations on data.\n",
        "\n",
        "Python has 4 main data structures: `Lists`, `Dictionaries`, `Tuples` and `Sets`."
      ]
    },
    {
      "cell_type": "markdown",
      "metadata": {
        "id": "DH8pNlbTic4m"
      },
      "source": [
        "<a name='2-1'></a>\n",
        "\n",
        "### 2.1 List"
      ]
    },
    {
      "cell_type": "markdown",
      "metadata": {
        "id": "9mZAwBBojXlo"
      },
      "source": [
        "A list is a set of ordered values. Each value in a list is called an `element` or `item` and can be identified by an index. A list supports different data types, we can have a list of integers, strings, and floats.\n",
        "\n",
        "What we will see with Python lists:\n",
        "\n",
        "- Creating a list\n",
        "- Accessing elements in a list\n",
        "- Slicing a list\n",
        "- Changing elements in a list\n",
        "- Traversing a list\n",
        "- Operations on list\n",
        "- Nested lists\n",
        "- List methods\n",
        "- List and strings"
      ]
    },
    {
      "cell_type": "markdown",
      "metadata": {
        "id": "OLBKjTOWjXlo"
      },
      "source": [
        "#### Creating a List\n",
        "\n",
        "A python list can be created by enclosing elements of similar or different data type in square brackets `[...]`, or with `range()` function."
      ]
    },
    {
      "cell_type": "code",
      "execution_count": 20,
      "metadata": {
        "id": "swPhe55olYIy",
        "colab": {
          "base_uri": "https://localhost:8080/"
        },
        "outputId": "f5c99f3d-95ab-41ba-ac07-eabbeb374d63"
      },
      "outputs": [
        {
          "output_type": "stream",
          "name": "stdout",
          "text": [
            "['Mon', 'Tue', 'Wed', 'Thur', 'Fri']\n"
          ]
        }
      ],
      "source": [
        "# Creating a list\n",
        "\n",
        "week_days = ['Mon', 'Tue', 'Wed', 'Thur','Fri']\n",
        "mixed_list = ['Mon', 1, 'Tue', 2, 'Wed', 3]\n",
        "\n",
        "# Displaying elements of a list\n",
        "print(week_days)"
      ]
    },
    {
      "cell_type": "code",
      "execution_count": 21,
      "metadata": {
        "colab": {
          "base_uri": "https://localhost:8080/"
        },
        "id": "zTvjJCDmjXlp",
        "outputId": "11d7c5af-66a4-45d3-81b0-ea9a6c3b7f6b"
      },
      "outputs": [
        {
          "output_type": "stream",
          "name": "stdout",
          "text": [
            "0\n",
            "1\n",
            "2\n",
            "3\n",
            "4\n"
          ]
        }
      ],
      "source": [
        "# Creating a list with range()\n",
        "\n",
        "nums = range(5)\n",
        "\n",
        "for i in nums:\n",
        "    print(i)"
      ]
    },
    {
      "cell_type": "markdown",
      "metadata": {
        "id": "0aM9jlhFjXlp"
      },
      "source": [
        "#### Accessing the elements of the list"
      ]
    },
    {
      "cell_type": "markdown",
      "metadata": {
        "id": "bMFt-JRJjXlq"
      },
      "source": [
        "We can access the a given element of the list by providing the index of the element in a bracket. The index starts at 0 in Python."
      ]
    },
    {
      "cell_type": "code",
      "execution_count": 24,
      "metadata": {
        "colab": {
          "base_uri": "https://localhost:8080/",
          "height": 36
        },
        "id": "fn8cVIUKlkLc",
        "outputId": "74c54be9-1589-4d8d-aa81-a09d4d8aae13"
      },
      "outputs": [
        {
          "output_type": "execute_result",
          "data": {
            "text/plain": [
              "'Wed'"
            ],
            "application/vnd.google.colaboratory.intrinsic+json": {
              "type": "string"
            }
          },
          "metadata": {},
          "execution_count": 24
        }
      ],
      "source": [
        "# note that the first elemnt of the list is at the position 0 not 1 !!\n",
        "week_days[2]"
      ]
    },
    {
      "cell_type": "code",
      "execution_count": 25,
      "metadata": {
        "colab": {
          "base_uri": "https://localhost:8080/"
        },
        "id": "D4ZyzdIqmJhp",
        "outputId": "c7da51c8-4c2d-4abd-8632-8fd1f61293cf"
      },
      "outputs": [
        {
          "output_type": "stream",
          "name": "stdout",
          "text": [
            "Fri\n"
          ]
        }
      ],
      "source": [
        "# Getting the last element of the list\n",
        "\n",
        "print(week_days[-1])"
      ]
    },
    {
      "cell_type": "markdown",
      "metadata": {
        "id": "xftacAzWjXlx"
      },
      "source": [
        "#### Slicing a list"
      ]
    },
    {
      "cell_type": "markdown",
      "metadata": {
        "id": "tjJwAEpFjXlx"
      },
      "source": [
        "Given a list, we can slice it to get any parts or combination of its elements forming another list."
      ]
    },
    {
      "cell_type": "code",
      "execution_count": null,
      "metadata": {
        "colab": {
          "base_uri": "https://localhost:8080/"
        },
        "id": "6vgpF3uumLSh",
        "outputId": "94668bd8-cc67-4662-8005-ad85d70c0415"
      },
      "outputs": [
        {
          "data": {
            "text/plain": [
              "['Mon', 'Tue']"
            ]
          },
          "execution_count": 34,
          "metadata": {},
          "output_type": "execute_result"
        }
      ],
      "source": [
        "# Get the elements from index 0 to 2. Index 2 is not included.\n",
        "\n",
        "week_days = ['Mon', 'Tue', 'Wed', 'Thur','Fri']\n",
        "week_days[0:2]"
      ]
    },
    {
      "cell_type": "code",
      "execution_count": null,
      "metadata": {
        "colab": {
          "base_uri": "https://localhost:8080/"
        },
        "id": "rbz02O80mV1K",
        "outputId": "2ba533db-6467-4121-b964-ba9c1bf40a3b"
      },
      "outputs": [
        {
          "data": {
            "text/plain": [
              "['Tue', 'Wed', 'Thur', 'Fri']"
            ]
          },
          "execution_count": 35,
          "metadata": {},
          "output_type": "execute_result"
        }
      ],
      "source": [
        "# Get elements from the last fourth elements to the first\n",
        "# -1 starts at the last element 'Fri', -2 second last element `Thur'..... -4 to 'Tue'\n",
        "\n",
        "week_days[-4:]"
      ]
    },
    {
      "cell_type": "code",
      "execution_count": null,
      "metadata": {
        "id": "cz5ioyYkjXl1",
        "outputId": "e236de9f-b28f-464b-96bd-7abe4738708c"
      },
      "outputs": [
        {
          "data": {
            "text/plain": [
              "['Mon', 'Tue', 'Wed', 'Thur']"
            ]
          },
          "execution_count": 36,
          "metadata": {},
          "output_type": "execute_result"
        }
      ],
      "source": [
        "# Get all elements up to the fourth index\n",
        "\n",
        "week_days[:4]"
      ]
    },
    {
      "cell_type": "code",
      "execution_count": null,
      "metadata": {
        "id": "DEcjlomHjXl1",
        "outputId": "fe663338-db1b-45f4-acfc-d1d70f2e8399"
      },
      "outputs": [
        {
          "data": {
            "text/plain": [
              "['Wed', 'Thur', 'Fri']"
            ]
          },
          "execution_count": 37,
          "metadata": {},
          "output_type": "execute_result"
        }
      ],
      "source": [
        "# Get all elements from the second to the last index\n",
        "\n",
        "week_days[2:]"
      ]
    },
    {
      "cell_type": "markdown",
      "metadata": {
        "id": "8LJLnwF9jXl1"
      },
      "source": [
        "You can use `[:]` to copy the entire list."
      ]
    },
    {
      "cell_type": "code",
      "execution_count": null,
      "metadata": {
        "id": "46FK2vxNjXl2",
        "outputId": "1b2adbf9-10dd-45d3-b391-986e5fe51bb5"
      },
      "outputs": [
        {
          "data": {
            "text/plain": [
              "['Mon', 'Tue', 'Wed', 'Thur', 'Fri']"
            ]
          },
          "execution_count": 38,
          "metadata": {},
          "output_type": "execute_result"
        }
      ],
      "source": [
        "week_days[:]"
      ]
    },
    {
      "cell_type": "markdown",
      "metadata": {
        "id": "8dA8VshcjXl3"
      },
      "source": [
        "#### Changing elements in a list\n",
        "\n",
        "Python lists are mutable. We can delete or change the elements of the list."
      ]
    },
    {
      "cell_type": "code",
      "execution_count": null,
      "metadata": {
        "id": "45BJ-VstjXl3",
        "outputId": "a14837c4-d707-4463-dbbe-3e35b7b1230d"
      },
      "outputs": [
        {
          "data": {
            "text/plain": [
              "['James', 'Jean', 'Sebastian', 'Prit']"
            ]
          },
          "execution_count": 39,
          "metadata": {},
          "output_type": "execute_result"
        }
      ],
      "source": [
        "names = ['James', 'Jean', 'Sebastian', 'Prit']\n",
        "names"
      ]
    },
    {
      "cell_type": "code",
      "execution_count": null,
      "metadata": {
        "id": "le_FPtumjXl4",
        "outputId": "76cd456d-81bc-4bb2-a0d4-c2e40028d492"
      },
      "outputs": [
        {
          "data": {
            "text/plain": [
              "['James', 'Nyandwi', 'Ras', 'Prit']"
            ]
          },
          "execution_count": 40,
          "metadata": {},
          "output_type": "execute_result"
        }
      ],
      "source": [
        "# Change 'Jean' to 'Nyandwi' and 'Sebastian' to 'Ras'\n",
        "\n",
        "names[1:3] = ['Nyandwi', 'Ras']\n",
        "names"
      ]
    },
    {
      "cell_type": "code",
      "execution_count": null,
      "metadata": {
        "id": "v5mMQ1Y1jXl4",
        "outputId": "92a7cc2e-e123-4b50-c34e-8623c65074c8"
      },
      "outputs": [
        {
          "data": {
            "text/plain": [
              "['James', 'Nyandwi', 'Ras', 'Sun']"
            ]
          },
          "execution_count": 41,
          "metadata": {},
          "output_type": "execute_result"
        }
      ],
      "source": [
        "# Change 'Prit' to Sun\n",
        "\n",
        "names[-1] = 'Sun'\n",
        "names"
      ]
    },
    {
      "cell_type": "code",
      "execution_count": null,
      "metadata": {
        "id": "SllMh1FnjXl4",
        "outputId": "f270f0e9-c5b7-4958-ca9b-142da9389f32"
      },
      "outputs": [
        {
          "data": {
            "text/plain": [
              "['Francois', 'Nyandwi', 'Ras', 'Sun']"
            ]
          },
          "execution_count": 42,
          "metadata": {},
          "output_type": "execute_result"
        }
      ],
      "source": [
        "# Change `James` to ``Francois`\n",
        "\n",
        "names[0] = 'Francois'\n",
        "names"
      ]
    },
    {
      "cell_type": "markdown",
      "metadata": {
        "id": "H1CzlIe3jXl5"
      },
      "source": [
        "In order to delete a given element in a list, we can empty slice it but the better way to delete element is to use `del` keyword."
      ]
    },
    {
      "cell_type": "code",
      "execution_count": null,
      "metadata": {
        "id": "fKyTZR6HjXl5",
        "outputId": "dc7c2dad-9f9a-4749-e362-d8a4d934f0ee"
      },
      "outputs": [
        {
          "data": {
            "text/plain": [
              "['Francois', 'Ras', 'Sun']"
            ]
          },
          "execution_count": 43,
          "metadata": {},
          "output_type": "execute_result"
        }
      ],
      "source": [
        "# Delete Nyandwi in names list\n",
        "\n",
        "del names[1]\n",
        "names"
      ]
    },
    {
      "cell_type": "markdown",
      "metadata": {
        "id": "50oXxfj1jXl6"
      },
      "source": [
        "If you know the index of the element you want to remove, you can use `pop()`. If you don't provide the index in pop(), the last element will be deleted."
      ]
    },
    {
      "cell_type": "code",
      "execution_count": null,
      "metadata": {
        "id": "uKThj4gNjXl6",
        "outputId": "f1a0922c-f8e1-40d1-f471-c85c186664fb"
      },
      "outputs": [
        {
          "data": {
            "text/plain": [
              "['James', 'Jean', 'Prit']"
            ]
          },
          "execution_count": 44,
          "metadata": {},
          "output_type": "execute_result"
        }
      ],
      "source": [
        "names = ['James', 'Jean', 'Sebastian', 'Prit']\n",
        "names.pop(2)\n",
        "names"
      ]
    },
    {
      "cell_type": "markdown",
      "metadata": {
        "id": "oUwWCqt0jXl7"
      },
      "source": [
        "Also, we can use `remove()` to delete the element provided inside the remove() method."
      ]
    },
    {
      "cell_type": "code",
      "execution_count": null,
      "metadata": {
        "id": "qD8Y0NNrjXl7",
        "outputId": "b1b2978b-5aee-4c2e-9409-bc3d224d4093"
      },
      "outputs": [
        {
          "data": {
            "text/plain": [
              "['Jean', 'Sebastian', 'Prit']"
            ]
          },
          "execution_count": 45,
          "metadata": {},
          "output_type": "execute_result"
        }
      ],
      "source": [
        "names = ['James', 'Jean', 'Sebastian', 'Prit']\n",
        "names.remove('James')\n",
        "names"
      ]
    },
    {
      "cell_type": "markdown",
      "metadata": {
        "id": "dduwP0NwjXl8"
      },
      "source": [
        "We can also use `append()` to add element to the list."
      ]
    },
    {
      "cell_type": "code",
      "execution_count": null,
      "metadata": {
        "colab": {
          "base_uri": "https://localhost:8080/"
        },
        "id": "4IQ2eSWKnUUe",
        "outputId": "b9a4bb0a-7e58-4c65-e2f6-0e6bc7e26cc1"
      },
      "outputs": [
        {
          "data": {
            "text/plain": [
              "['James', 'Jean', 'Sebastian', 'Prit', 'Jac', 'Jess']"
            ]
          },
          "execution_count": 46,
          "metadata": {},
          "output_type": "execute_result"
        }
      ],
      "source": [
        "# Adding the new elements in list\n",
        "\n",
        "names = ['James', 'Jean', 'Sebastian', 'Prit']\n",
        "names.append('Jac')\n",
        "names.append('Jess')\n",
        "names"
      ]
    },
    {
      "cell_type": "markdown",
      "metadata": {
        "id": "14VXVKoLjXl9"
      },
      "source": [
        "#### Traversing a list"
      ]
    },
    {
      "cell_type": "markdown",
      "metadata": {
        "id": "QL_FWouAjXl-"
      },
      "source": [
        "There are times that we may need to go over the list to read the elements of the list or perform iterative operations. We can use `for loop` to traverse through the list."
      ]
    },
    {
      "cell_type": "code",
      "execution_count": null,
      "metadata": {
        "id": "tRhMLPq3jXmA",
        "outputId": "84d3e595-0c9d-41bc-ee5a-3663a05a23ec"
      },
      "outputs": [
        {
          "name": "stdout",
          "output_type": "stream",
          "text": [
            "James\n",
            "Jean\n",
            "Sebastian\n",
            "Prit\n"
          ]
        }
      ],
      "source": [
        "# Given a list names, use for loop to display its elements\n",
        "\n",
        "names = ['James', 'Jean', 'Sebastian', 'Prit']\n",
        "\n",
        "for name in names:\n",
        "    print(name)"
      ]
    },
    {
      "cell_type": "code",
      "execution_count": null,
      "metadata": {
        "id": "YfLmdFwIjXmA",
        "outputId": "d0315a92-8c9b-42d1-9a60-f2276ba3af99"
      },
      "outputs": [
        {
          "data": {
            "text/plain": [
              "[2, 4, 6, 10]"
            ]
          },
          "execution_count": 48,
          "metadata": {},
          "output_type": "execute_result"
        }
      ],
      "source": [
        "# Given a list nums, add 1 to the first element, 2 to the second, 3 to 3rd element, 4 to 4th element\n",
        "# Example: nums = [1,2,3,6] will be nums_new = [2,4,6,10]\n",
        "\n",
        "nums = [1, 2, 3, 6]\n",
        "nums_new = []\n",
        "\n",
        "for i in range(len(nums)): #len(nums) gives the length of the list\n",
        "    num = nums[i] + i + 1\n",
        "    nums_new.append(num)\n",
        "\n",
        "nums_new"
      ]
    },
    {
      "cell_type": "markdown",
      "metadata": {
        "id": "akYEC3v2jXmB"
      },
      "source": [
        "#### Operations on list"
      ]
    },
    {
      "cell_type": "code",
      "execution_count": null,
      "metadata": {
        "colab": {
          "base_uri": "https://localhost:8080/"
        },
        "id": "eAFvBTBwnwE6",
        "outputId": "b38e412a-9839-454c-b8b2-5594174225e2"
      },
      "outputs": [
        {
          "data": {
            "text/plain": [
              "[1, 2, 3, 4, 5, 6]"
            ]
          },
          "execution_count": 49,
          "metadata": {},
          "output_type": "execute_result"
        }
      ],
      "source": [
        "# Concatenating two lists\n",
        "\n",
        "a = [1,2,3]\n",
        "b = [4,5,6]\n",
        "\n",
        "c = a + b\n",
        "\n",
        "c"
      ]
    },
    {
      "cell_type": "code",
      "execution_count": null,
      "metadata": {
        "id": "dAcgnn9xjXmC",
        "outputId": "ecaae5cd-c86f-4627-d327-0004c66d344f"
      },
      "outputs": [
        {
          "data": {
            "text/plain": [
              "[None, None, None, None, None]"
            ]
          },
          "execution_count": 50,
          "metadata": {},
          "output_type": "execute_result"
        }
      ],
      "source": [
        "# We can also use * operator to repeat a list a number of times\n",
        "\n",
        "[None] * 5"
      ]
    },
    {
      "cell_type": "code",
      "execution_count": null,
      "metadata": {
        "id": "PJqmUFeajXmD",
        "outputId": "abe7a3e5-2cae-4ca4-93db-5adfd97d1892"
      },
      "outputs": [
        {
          "data": {
            "text/plain": [
              "[True, True, True, True]"
            ]
          },
          "execution_count": 51,
          "metadata": {},
          "output_type": "execute_result"
        }
      ],
      "source": [
        "[True] * 4"
      ]
    },
    {
      "cell_type": "code",
      "execution_count": null,
      "metadata": {
        "id": "LaEzDK5EjXmK",
        "outputId": "3c2a101d-9a7d-43d8-cf53-e6b7a0f34d83"
      },
      "outputs": [
        {
          "data": {
            "text/plain": [
              "[1, 2, 4, 5, 1, 2, 4, 5]"
            ]
          },
          "execution_count": 52,
          "metadata": {},
          "output_type": "execute_result"
        }
      ],
      "source": [
        "[1,2,4,5] * 2"
      ]
    },
    {
      "cell_type": "markdown",
      "metadata": {
        "id": "tC1kKTGwjXmL"
      },
      "source": [
        "#### Nested lists"
      ]
    },
    {
      "cell_type": "code",
      "execution_count": null,
      "metadata": {
        "colab": {
          "base_uri": "https://localhost:8080/"
        },
        "id": "YfuV7azQoAfP",
        "outputId": "8d5fe027-3b49-482b-af56-4eaf0713169b"
      },
      "outputs": [
        {
          "data": {
            "text/plain": [
              "['a', 'b', 'c']"
            ]
          },
          "execution_count": 53,
          "metadata": {},
          "output_type": "execute_result"
        }
      ],
      "source": [
        "# Creating a list in other list\n",
        "\n",
        "nested_list = [1,2,3, ['a', 'b', 'c']]\n",
        "\n",
        "\n",
        "# Get the ['a', 'b', 'c'] from the nested_list\n",
        "\n",
        "nested_list[3]"
      ]
    },
    {
      "cell_type": "code",
      "execution_count": null,
      "metadata": {
        "id": "jzpzUWgwjXmM",
        "outputId": "1f35adf0-7b33-4f6e-84d9-429839b78a75"
      },
      "outputs": [
        {
          "data": {
            "text/plain": [
              "2"
            ]
          },
          "execution_count": 54,
          "metadata": {},
          "output_type": "execute_result"
        }
      ],
      "source": [
        "# Indexing and slicing a nested list is quite similar to normal list\n",
        "\n",
        "nested_list[1]"
      ]
    },
    {
      "cell_type": "markdown",
      "metadata": {
        "id": "-06aEzRYpQuv"
      },
      "source": [
        "#### List Methods\n",
        "\n",
        "Python also offers methods which make it easy to work with lists. We already have been using some list methods such as `pop()` and `append()` but let's review more other methods."
      ]
    },
    {
      "cell_type": "code",
      "execution_count": 26,
      "metadata": {
        "colab": {
          "base_uri": "https://localhost:8080/"
        },
        "id": "J9mdh2H7pQuw",
        "outputId": "42dda4bc-120f-4ebe-c63c-8545e62f9d5f"
      },
      "outputs": [
        {
          "output_type": "execute_result",
          "data": {
            "text/plain": [
              "[2, 8, 10, 12, 14, 16, 20]"
            ]
          },
          "metadata": {},
          "execution_count": 26
        }
      ],
      "source": [
        "# Sorting a list with sort()\n",
        "\n",
        "even_numbers = [2,14,16,12,20,8,10]\n",
        "\n",
        "even_numbers.sort()\n",
        "\n",
        "even_numbers"
      ]
    },
    {
      "cell_type": "code",
      "execution_count": 27,
      "metadata": {
        "colab": {
          "base_uri": "https://localhost:8080/"
        },
        "id": "rIkRCqJFpQuw",
        "outputId": "00cc38a6-6363-4a59-e7a5-5e8baf89d8b7"
      },
      "outputs": [
        {
          "output_type": "execute_result",
          "data": {
            "text/plain": [
              "[20, 16, 14, 12, 10, 8, 2]"
            ]
          },
          "metadata": {},
          "execution_count": 27
        }
      ],
      "source": [
        "# Reversing a string with reverse()\n",
        "\n",
        "even_numbers.reverse()\n",
        "even_numbers"
      ]
    },
    {
      "cell_type": "code",
      "execution_count": 28,
      "metadata": {
        "colab": {
          "base_uri": "https://localhost:8080/"
        },
        "id": "XkPIhdgspQux",
        "outputId": "1a7c9147-df2c-4a20-b196-b68d27076254"
      },
      "outputs": [
        {
          "output_type": "execute_result",
          "data": {
            "text/plain": [
              "[2, 14, 16, 12, 20, 8, 10, 40]"
            ]
          },
          "metadata": {},
          "execution_count": 28
        }
      ],
      "source": [
        "# Adding other elements to a list with append()\n",
        "\n",
        "even_numbers = [2,14,16,12,20,8,10]\n",
        "\n",
        "even_numbers.append(40)\n",
        "even_numbers"
      ]
    },
    {
      "cell_type": "code",
      "execution_count": 30,
      "metadata": {
        "colab": {
          "base_uri": "https://localhost:8080/"
        },
        "id": "ar0cycDrpQux",
        "outputId": "be3af086-3320-4770-87d9-21f9e973283d"
      },
      "outputs": [
        {
          "output_type": "execute_result",
          "data": {
            "text/plain": [
              "[16, 12, 20, 8, 10]"
            ]
          },
          "metadata": {},
          "execution_count": 30
        }
      ],
      "source": [
        "# Removing the first element of a list\n",
        "\n",
        "even_numbers.remove(2)\n",
        "even_numbers"
      ]
    },
    {
      "cell_type": "code",
      "execution_count": 29,
      "metadata": {
        "colab": {
          "base_uri": "https://localhost:8080/"
        },
        "id": "cEaIcsmepQux",
        "outputId": "51e9f2b5-c509-43ee-8ff3-9ee1da2add4d"
      },
      "outputs": [
        {
          "output_type": "execute_result",
          "data": {
            "text/plain": [
              "14"
            ]
          },
          "metadata": {},
          "execution_count": 29
        }
      ],
      "source": [
        "## Return the element of the list at index x\n",
        "\n",
        "even_numbers = [2,14,16,12,20,8,10]\n",
        "\n",
        "## Return the item at the 1st index\n",
        "\n",
        "even_numbers.pop(1)"
      ]
    },
    {
      "cell_type": "code",
      "execution_count": 31,
      "metadata": {
        "colab": {
          "base_uri": "https://localhost:8080/"
        },
        "id": "F1VVBhZOpQuy",
        "outputId": "0027fb3e-55d7-47c9-dc04-f7c218ca80f1"
      },
      "outputs": [
        {
          "output_type": "execute_result",
          "data": {
            "text/plain": [
              "10"
            ]
          },
          "metadata": {},
          "execution_count": 31
        }
      ],
      "source": [
        "# pop() without index specified will return the last element of the list\n",
        "\n",
        "even_numbers = [2,14,16,12,20,8,10]\n",
        "even_numbers.pop()"
      ]
    },
    {
      "cell_type": "code",
      "execution_count": 32,
      "metadata": {
        "colab": {
          "base_uri": "https://localhost:8080/"
        },
        "id": "X19sfgRHpQuy",
        "outputId": "8f44a156-0cb2-4197-ac63-207270a697a4"
      },
      "outputs": [
        {
          "output_type": "execute_result",
          "data": {
            "text/plain": [
              "2"
            ]
          },
          "metadata": {},
          "execution_count": 32
        }
      ],
      "source": [
        "# Count a number of times an element appear in a list\n",
        "\n",
        "even_numbers = [2,2,4,6,8]\n",
        "even_numbers.count(2)"
      ]
    },
    {
      "cell_type": "markdown",
      "metadata": {
        "id": "zFtXxXghjXmS"
      },
      "source": [
        "#### List and strings"
      ]
    },
    {
      "cell_type": "markdown",
      "metadata": {
        "id": "0ONmtmPzjXmS"
      },
      "source": [
        "We previously have learned about strings. Strings are sequence of characters. List is a sequence of values."
      ]
    },
    {
      "cell_type": "code",
      "execution_count": null,
      "metadata": {
        "id": "TNztWE6bjXmS",
        "outputId": "c79fdbbc-4bf2-41b3-9cd8-8171226643ee"
      },
      "outputs": [
        {
          "data": {
            "text/plain": [
              "['A', 'p', 'p', 'l', 'e']"
            ]
          },
          "execution_count": 62,
          "metadata": {},
          "output_type": "execute_result"
        }
      ],
      "source": [
        "# We can convert a string into list\n",
        "\n",
        "stri = 'Apple'\n",
        "\n",
        "list(stri)"
      ]
    },
    {
      "cell_type": "code",
      "execution_count": null,
      "metadata": {
        "id": "E34YnTXMjXmS",
        "outputId": "fcb06962-fb47-4be4-94b8-2562e244d918"
      },
      "outputs": [
        {
          "data": {
            "text/plain": [
              "['List', 'and', 'Strings']"
            ]
          },
          "execution_count": 63,
          "metadata": {},
          "output_type": "execute_result"
        }
      ],
      "source": [
        "# Splitting a string produces a list of individual words\n",
        "\n",
        "stri_2 = \"List and Strings\"\n",
        "stri_2.split()"
      ]
    },
    {
      "cell_type": "markdown",
      "metadata": {
        "id": "KprQUaKZjXmS"
      },
      "source": [
        "The split() string method allows to specify the character to use a a boundary while splitting the string. It's called delimiter."
      ]
    },
    {
      "cell_type": "code",
      "execution_count": null,
      "metadata": {
        "id": "lqZVkb21jXmT",
        "outputId": "5edd8d79-09fb-4fa8-a9a2-fad58520fc78"
      },
      "outputs": [
        {
          "data": {
            "text/plain": [
              "['state', 'of', 'the', 'art']"
            ]
          },
          "execution_count": 64,
          "metadata": {},
          "output_type": "execute_result"
        }
      ],
      "source": [
        "stri_3 = \"state-of-the-art\"\n",
        "\n",
        "stri_3.split('-')"
      ]
    },
    {
      "cell_type": "markdown",
      "metadata": {
        "id": "qXcv4KtLq2RJ"
      },
      "source": [
        "<a name='2-2'></a>\n",
        "\n",
        "### 2.2 Dictionaries"
      ]
    },
    {
      "cell_type": "markdown",
      "metadata": {
        "id": "21WweSX9jXmU"
      },
      "source": [
        "Dictionaries are powerful Python builtin data structure that are used to store data of key and values. A dictionary is like a list but rather than using integers as indices, indices in dictionary can be any data type. Also, unlike lists, dictionary are unordered. Dictionaries dont guarrantee keeping the order of the data.\n",
        "\n",
        "Generally, a dictionary is a collection of key and values. A dictionary stores a mapping of keys and values. A key is what we can refer to index.\n",
        "\n",
        "What we will see:\n",
        "\n",
        "- Creating a dictionary\n",
        "- Accessing values and keys in dictionary\n",
        "- Solving counting problems with dictionary\n",
        "- Traversing a dictionary\n",
        "- The setdefault() method"
      ]
    },
    {
      "cell_type": "markdown",
      "metadata": {
        "id": "pmgl9qCCjXmU"
      },
      "source": [
        "#### Creating a dictionary"
      ]
    },
    {
      "cell_type": "markdown",
      "metadata": {
        "id": "MxHY0dEpjXmV"
      },
      "source": [
        "We can create with a `dict()` function and add items later, or insert keys and values right away in the curly brackets { }. Let's start with dict() function to create an empty dictionary."
      ]
    },
    {
      "cell_type": "code",
      "execution_count": null,
      "metadata": {
        "id": "TluR4MGEjXmV",
        "outputId": "49ac1079-cf63-46c4-8f29-00022f0ce84a"
      },
      "outputs": [
        {
          "name": "stdout",
          "output_type": "stream",
          "text": [
            "{}\n"
          ]
        }
      ],
      "source": [
        "# Creating a dictionary\n",
        "\n",
        "countries_code = dict()\n",
        "print(countries_code)"
      ]
    },
    {
      "cell_type": "markdown",
      "metadata": {
        "id": "XQqfI2epjXmV"
      },
      "source": [
        "You can verify it's a dictionary by passing it through `type()`."
      ]
    },
    {
      "cell_type": "code",
      "execution_count": null,
      "metadata": {
        "id": "Vt7S0kYZjXmW",
        "outputId": "852f1b40-1990-4fbc-d051-62fa00d29ba3"
      },
      "outputs": [
        {
          "data": {
            "text/plain": [
              "dict"
            ]
          },
          "execution_count": 66,
          "metadata": {},
          "output_type": "execute_result"
        }
      ],
      "source": [
        "type(countries_code)"
      ]
    },
    {
      "cell_type": "markdown",
      "metadata": {
        "id": "WOgsVnmRjXmY"
      },
      "source": [
        "Let's add items to the empty dictionary that we just created."
      ]
    },
    {
      "cell_type": "code",
      "execution_count": null,
      "metadata": {
        "id": "ehjyFwirq7A0"
      },
      "outputs": [],
      "source": [
        "# Adding items to the empty dictionary.\n",
        "\n",
        "countries_code[\"United States\"] = 1"
      ]
    },
    {
      "cell_type": "code",
      "execution_count": null,
      "metadata": {
        "id": "zAQiAcFXjXmZ",
        "outputId": "e46b206d-025a-421b-ac26-0af0aa4fd810"
      },
      "outputs": [
        {
          "data": {
            "text/plain": [
              "{'United States': 1}"
            ]
          },
          "execution_count": 68,
          "metadata": {},
          "output_type": "execute_result"
        }
      ],
      "source": [
        "countries_code"
      ]
    },
    {
      "cell_type": "markdown",
      "metadata": {
        "id": "-Ker1xlqjXmZ"
      },
      "source": [
        "Let's create a dictionary with {}. It's the common way to create a dictionary."
      ]
    },
    {
      "cell_type": "code",
      "execution_count": null,
      "metadata": {
        "colab": {
          "base_uri": "https://localhost:8080/"
        },
        "id": "R1miLn1BuN9J",
        "outputId": "3eda6a2d-d452-4272-80af-2f1d45dd525b"
      },
      "outputs": [
        {
          "data": {
            "text/plain": [
              "{'United States': 1, 'China': 86, 'Rwanda': 250, 'Germany': 49, 'India': 91}"
            ]
          },
          "execution_count": 69,
          "metadata": {},
          "output_type": "execute_result"
        }
      ],
      "source": [
        "countries_code = {\n",
        "        \"United States\": 1,\n",
        "        \"China\": 86,\n",
        "        \"Rwanda\":250,\n",
        "        \"Germany\": 49,\n",
        "        \"India\": 91,\n",
        "}\n",
        "\n",
        "countries_code"
      ]
    },
    {
      "cell_type": "markdown",
      "metadata": {
        "id": "3lV6cXlajXma"
      },
      "source": [
        "To add key and values to a dictionary, we just add the new key to [ ] and set its new value. See below for example..."
      ]
    },
    {
      "cell_type": "code",
      "execution_count": null,
      "metadata": {
        "id": "1WAfRiP2jXmb",
        "outputId": "b6ff108f-f1dd-4027-c749-cd1e84f3187f"
      },
      "outputs": [
        {
          "data": {
            "text/plain": [
              "{'United States': 1,\n",
              " 'China': 86,\n",
              " 'Rwanda': 250,\n",
              " 'Germany': 49,\n",
              " 'India': 91,\n",
              " 'Australia': 61}"
            ]
          },
          "execution_count": 70,
          "metadata": {},
          "output_type": "execute_result"
        }
      ],
      "source": [
        "countries_code['Australia'] = 61\n",
        "countries_code"
      ]
    },
    {
      "cell_type": "markdown",
      "metadata": {
        "id": "nJLqOO0zjXmc"
      },
      "source": [
        "#### Accessing the values and keys in a dictionary"
      ]
    },
    {
      "cell_type": "markdown",
      "metadata": {
        "id": "S-3nT_bsjXmc"
      },
      "source": [
        "Just like how we get values in a list by using their indices, in dictionary, we can use a key to get its corresponding value."
      ]
    },
    {
      "cell_type": "code",
      "execution_count": null,
      "metadata": {
        "id": "022PFuAsjXmd",
        "outputId": "2302b92a-a9c0-41e2-c78c-368f0c519671"
      },
      "outputs": [
        {
          "data": {
            "text/plain": [
              "250"
            ]
          },
          "execution_count": 71,
          "metadata": {},
          "output_type": "execute_result"
        }
      ],
      "source": [
        "# Getting the code of Rwanda\n",
        "\n",
        "countries_code[\"Rwanda\"]"
      ]
    },
    {
      "cell_type": "markdown",
      "metadata": {
        "id": "PNorMvgYjXmd"
      },
      "source": [
        "We can also check if a key exists in a dictionary by using a classic `in` operator."
      ]
    },
    {
      "cell_type": "code",
      "execution_count": null,
      "metadata": {
        "id": "B5m-bf-HjXme",
        "outputId": "d7279d43-12f9-4b7a-cf0f-556da25ca773"
      },
      "outputs": [
        {
          "data": {
            "text/plain": [
              "True"
            ]
          },
          "execution_count": 72,
          "metadata": {},
          "output_type": "execute_result"
        }
      ],
      "source": [
        "\"India\" in countries_code"
      ]
    },
    {
      "cell_type": "code",
      "execution_count": null,
      "metadata": {
        "id": "5Q-42GbhjXme",
        "outputId": "2ccdfadc-5d1f-4059-aadf-3685afdfbe52"
      },
      "outputs": [
        {
          "data": {
            "text/plain": [
              "False"
            ]
          },
          "execution_count": 73,
          "metadata": {},
          "output_type": "execute_result"
        }
      ],
      "source": [
        "# Should be False\n",
        "\n",
        "\"Singapore\" in countries_code"
      ]
    },
    {
      "cell_type": "markdown",
      "metadata": {
        "id": "IL618nNsjXmf"
      },
      "source": [
        "To get all the keys, value, and items of the dictionary, we can respectively use `keys()`, `values()`, and `items()` methods."
      ]
    },
    {
      "cell_type": "code",
      "execution_count": null,
      "metadata": {
        "id": "bDcF0Tf9jXmf",
        "outputId": "27a10467-c6a4-439d-b0bc-3a854b57ad19"
      },
      "outputs": [
        {
          "name": "stdout",
          "output_type": "stream",
          "text": [
            "Keys: dict_keys(['United States', 'China', 'Rwanda', 'Germany', 'India', 'Australia'])\n",
            " Values:dict_values([1, 86, 250, 49, 91, 61])\n",
            " Items:dict_items([('United States', 1), ('China', 86), ('Rwanda', 250), ('Germany', 49), ('India', 91), ('Australia', 61)])\n"
          ]
        }
      ],
      "source": [
        "# Getting the keys and the values and items of the dictionary\n",
        "\n",
        "dict_keys = countries_code.keys()\n",
        "dict_values = countries_code.values()\n",
        "dict_items = countries_code.items()\n",
        "\n",
        "print(f\"Keys: {dict_keys}\\n Values:{dict_values}\\n Items:{dict_items}\")"
      ]
    },
    {
      "cell_type": "markdown",
      "metadata": {
        "id": "MvNOxy_4jXmg"
      },
      "source": [
        "Lastly, we can use `get()` method to return the value of a specified key. Get method allows to also provide a value that will be returned in case the key doesn't exists. This is a cool feature!!"
      ]
    },
    {
      "cell_type": "code",
      "execution_count": null,
      "metadata": {
        "id": "-OGlxzXXjXmh",
        "outputId": "a519a5c8-8a41-457b-e278-8352a1b97d87"
      },
      "outputs": [
        {
          "data": {
            "text/plain": [
              "61"
            ]
          },
          "execution_count": 75,
          "metadata": {},
          "output_type": "execute_result"
        }
      ],
      "source": [
        "# Get the value of the Australia\n",
        "\n",
        "countries_code.get('Australia')"
      ]
    },
    {
      "cell_type": "code",
      "execution_count": null,
      "metadata": {
        "id": "XqywmvS_jXmk",
        "outputId": "4bbd7fe9-a976-4a56-d493-446276110105"
      },
      "outputs": [
        {
          "data": {
            "text/plain": [
              "41"
            ]
          },
          "execution_count": 76,
          "metadata": {},
          "output_type": "execute_result"
        }
      ],
      "source": [
        "# In case a provided key is absent....\n",
        "\n",
        "countries_code.get('UK', 41)"
      ]
    },
    {
      "cell_type": "markdown",
      "metadata": {
        "id": "KJ-VSR2BjXml"
      },
      "source": [
        "#### Solving counting problems with dictionary"
      ]
    },
    {
      "cell_type": "markdown",
      "metadata": {
        "id": "PWAs_b3djXmn"
      },
      "source": [
        "When solving real world problems, or perhaps doing interviews, most problems involve counting certain elements. Let's take a simple example: Given a string, write an algorithm that can count the occurence of each character.\n",
        "\n",
        "**Solution:**\n",
        "\n",
        "The first approach would be to create a list of 128 elements given that the standard size of characters in ASCII is 128, convert each character to a number with `ord()` method(`char()` convert from number to string), use the number as the index of the string, and then increment it as you see a recurring character. The code would like like this...."
      ]
    },
    {
      "cell_type": "code",
      "execution_count": null,
      "metadata": {
        "id": "e6TAIpbVjXmn",
        "outputId": "82a68275-cca6-4344-b78b-89310df6d302"
      },
      "outputs": [
        {
          "data": {
            "text/plain": [
              "[0,\n",
              " 0,\n",
              " 0,\n",
              " 0,\n",
              " 0,\n",
              " 0,\n",
              " 0,\n",
              " 0,\n",
              " 0,\n",
              " 0,\n",
              " 0,\n",
              " 0,\n",
              " 0,\n",
              " 0,\n",
              " 0,\n",
              " 0,\n",
              " 0,\n",
              " 0,\n",
              " 0,\n",
              " 0,\n",
              " 0,\n",
              " 0,\n",
              " 0,\n",
              " 0,\n",
              " 0,\n",
              " 0,\n",
              " 0,\n",
              " 0,\n",
              " 0,\n",
              " 0,\n",
              " 0,\n",
              " 0,\n",
              " 0,\n",
              " 0,\n",
              " 0,\n",
              " 0,\n",
              " 0,\n",
              " 0,\n",
              " 0,\n",
              " 0,\n",
              " 0,\n",
              " 0,\n",
              " 0,\n",
              " 0,\n",
              " 0,\n",
              " 0,\n",
              " 0,\n",
              " 0,\n",
              " 0,\n",
              " 0,\n",
              " 3,\n",
              " 0,\n",
              " 0,\n",
              " 0,\n",
              " 0,\n",
              " 0,\n",
              " 3,\n",
              " 0,\n",
              " 0,\n",
              " 0,\n",
              " 0,\n",
              " 0,\n",
              " 0,\n",
              " 0,\n",
              " 3,\n",
              " 0,\n",
              " 0,\n",
              " 0,\n",
              " 0,\n",
              " 0,\n",
              " 0,\n",
              " 0,\n",
              " 0,\n",
              " 0,\n",
              " 0,\n",
              " 0,\n",
              " 0,\n",
              " 0,\n",
              " 0,\n",
              " 0,\n",
              " 0,\n",
              " 0,\n",
              " 0,\n",
              " 0,\n",
              " 0,\n",
              " 0,\n",
              " 0,\n",
              " 0,\n",
              " 0,\n",
              " 0,\n",
              " 0,\n",
              " 0,\n",
              " 0,\n",
              " 0,\n",
              " 3,\n",
              " 0,\n",
              " 0,\n",
              " 5,\n",
              " 0,\n",
              " 0,\n",
              " 0,\n",
              " 0,\n",
              " 0,\n",
              " 0,\n",
              " 0,\n",
              " 0,\n",
              " 3,\n",
              " 0,\n",
              " 0,\n",
              " 0,\n",
              " 0,\n",
              " 0,\n",
              " 0,\n",
              " 0,\n",
              " 0,\n",
              " 3,\n",
              " 0,\n",
              " 0,\n",
              " 0,\n",
              " 0,\n",
              " 0,\n",
              " 0,\n",
              " 0,\n",
              " 0,\n",
              " 0,\n",
              " 0,\n",
              " 0,\n",
              " 0]"
            ]
          },
          "execution_count": 77,
          "metadata": {},
          "output_type": "execute_result"
        }
      ],
      "source": [
        "stri = 'aaaaajjj222@@@sss^^^888'\n",
        "\n",
        "counts = [0] * 128 # Create a list of 128 elements, initially each character count is 0.\n",
        "\n",
        "for c in stri:\n",
        "    c_num = ord(c)\n",
        "\n",
        "    counts[c_num] = counts[c_num] + 1\n",
        "\n",
        "counts"
      ]
    },
    {
      "cell_type": "markdown",
      "metadata": {
        "id": "sDXdkATjjXmo"
      },
      "source": [
        "Using dictionary, we would not have to worry about the size of the string or the nmber of characters to keep beforehand. We would just create a dictionary whose keys are characters and values are counts of corresponding characters. See character for the first time, add it to the dictionary with value of 1 since it's the first count, and then increment it if the character exists in dictionary."
      ]
    },
    {
      "cell_type": "code",
      "execution_count": null,
      "metadata": {
        "id": "tTv2h_wSjXmu",
        "outputId": "ff39e3b3-ce17-43f7-dc8f-3ef36a9cd972"
      },
      "outputs": [
        {
          "name": "stdout",
          "output_type": "stream",
          "text": [
            "{'j': 10, 'd': 7}\n"
          ]
        }
      ],
      "source": [
        "stri = \"jdjjdjdjdjjdjdjdj\"\n",
        "\n",
        "counts_dict = {}\n",
        "\n",
        "for c in stri:\n",
        "    if c not in counts_dict:\n",
        "        counts_dict[c] = 1\n",
        "\n",
        "    else:\n",
        "        counts_dict[c] += 1\n",
        "\n",
        "print(counts_dict)"
      ]
    },
    {
      "cell_type": "markdown",
      "metadata": {
        "id": "OWqsWs9PjXmx"
      },
      "source": [
        "Also, we can use `get()` method that we saw above to simplify our solution. To make it a bit fancier, let's also assume that the string will be provided by the user at the beginning of the program."
      ]
    },
    {
      "cell_type": "code",
      "execution_count": null,
      "metadata": {
        "id": "S7xhChuPjXmx",
        "outputId": "433c25fa-5b64-4159-8945-97ed382247cd"
      },
      "outputs": [
        {
          "name": "stdout",
          "output_type": "stream",
          "text": [
            "<class 'str'>ABBABABSHHSSH\n",
            "{'A': 3, 'B': 4, 'S': 3, 'H': 3}\n"
          ]
        }
      ],
      "source": [
        "stri = input(str) #input must be a string\n",
        "\n",
        "char_count = {}\n",
        "\n",
        "for c in stri:\n",
        "    char_count[c] = char_count.get(c,0) + 1\n",
        "\n",
        "print(char_count)"
      ]
    },
    {
      "cell_type": "markdown",
      "metadata": {
        "id": "EBahVcVyjXmx"
      },
      "source": [
        "#### Traversing a dictionary\n",
        "\n",
        "We previously used for loop in dictionary to iterate through the values. Let's review it again."
      ]
    },
    {
      "cell_type": "code",
      "execution_count": null,
      "metadata": {
        "id": "th2PYF_ajXmy",
        "outputId": "3bda5b4d-0b6d-43a5-a452-430e6a309441"
      },
      "outputs": [
        {
          "data": {
            "text/plain": [
              "{'United States': 1,\n",
              " 'China': 86,\n",
              " 'Rwanda': 250,\n",
              " 'Germany': 49,\n",
              " 'India': 91,\n",
              " 'Australia': 61}"
            ]
          },
          "execution_count": 80,
          "metadata": {},
          "output_type": "execute_result"
        }
      ],
      "source": [
        "countries_code"
      ]
    },
    {
      "cell_type": "code",
      "execution_count": null,
      "metadata": {
        "id": "rzjWoOCdjXmz",
        "outputId": "eab53de9-1522-45dc-f064-f2e69d5ced15"
      },
      "outputs": [
        {
          "name": "stdout",
          "output_type": "stream",
          "text": [
            "United States\n",
            "China\n",
            "Rwanda\n",
            "Germany\n",
            "India\n",
            "Australia\n"
          ]
        }
      ],
      "source": [
        "for country in countries_code:\n",
        "    print(country)"
      ]
    },
    {
      "cell_type": "markdown",
      "metadata": {
        "id": "3p0oRvffjXm0"
      },
      "source": [
        "We can also iterate through the items(key, values) of the dictionary."
      ]
    },
    {
      "cell_type": "code",
      "execution_count": null,
      "metadata": {
        "id": "M6pOXgLvjXm0",
        "outputId": "8cd726ef-e10c-4be2-b316-6826551a0a4e"
      },
      "outputs": [
        {
          "name": "stdout",
          "output_type": "stream",
          "text": [
            "United States 1\n",
            "China 86\n",
            "Rwanda 250\n",
            "Germany 49\n",
            "India 91\n",
            "Australia 61\n"
          ]
        }
      ],
      "source": [
        "for country, code in countries_code.items():\n",
        "    print(country, code)"
      ]
    },
    {
      "cell_type": "markdown",
      "metadata": {
        "id": "Jc1-2ScAjXm0"
      },
      "source": [
        "#### The setdefault() Method\n",
        "\n",
        "The setdefault() method allows you to set a value of a given key that does not already have a key. This can be helpful when you want to update the dictionary with a new value in case the key you are looking for does not exist."
      ]
    },
    {
      "cell_type": "code",
      "execution_count": null,
      "metadata": {
        "id": "7WAHFV1-jXm1",
        "outputId": "54e2ee00-0ba9-4887-9bbf-86c8957e0f45"
      },
      "outputs": [
        {
          "data": {
            "text/plain": [
              "41"
            ]
          },
          "execution_count": 83,
          "metadata": {},
          "output_type": "execute_result"
        }
      ],
      "source": [
        "countries_code.setdefault(\"UK\", 41)"
      ]
    },
    {
      "cell_type": "code",
      "execution_count": null,
      "metadata": {
        "id": "RdoROV7qjXm1",
        "outputId": "736d409a-7586-4a97-9016-6036aea9817f"
      },
      "outputs": [
        {
          "data": {
            "text/plain": [
              "{'United States': 1,\n",
              " 'China': 86,\n",
              " 'Rwanda': 250,\n",
              " 'Germany': 49,\n",
              " 'India': 91,\n",
              " 'Australia': 61,\n",
              " 'UK': 41}"
            ]
          },
          "execution_count": 84,
          "metadata": {},
          "output_type": "execute_result"
        }
      ],
      "source": [
        "countries_code"
      ]
    },
    {
      "cell_type": "markdown",
      "metadata": {
        "id": "o54zMTENjXm2"
      },
      "source": [
        "Cool! The UK value is added to the dictionary because it was not in the dictionary before. The setdefault() method and get() method are different.\n",
        "\n",
        "We can also use the setdefault() in the count program we wrote above."
      ]
    },
    {
      "cell_type": "code",
      "execution_count": null,
      "metadata": {
        "id": "-7oM504ljXm2",
        "outputId": "783d6bc2-59b0-4551-ea73-f9bee333049f"
      },
      "outputs": [
        {
          "name": "stdout",
          "output_type": "stream",
          "text": [
            "<class 'str'>AAAHHSHSHS\n",
            "{'A': 3, 'H': 4, 'S': 3}\n"
          ]
        }
      ],
      "source": [
        "stri = input(str) #input must be a string\n",
        "\n",
        "char_count = {}\n",
        "\n",
        "for c in stri:\n",
        "    char_count.setdefault(c,0) #If character doesn't exist in char_count, add it and set it to 0\n",
        "    char_count[c] += 1\n",
        "\n",
        "print(char_count)"
      ]
    },
    {
      "cell_type": "markdown",
      "metadata": {
        "id": "Lep0FmTjvTct"
      },
      "source": [
        "***Summarizing dictionary***\n",
        "\n",
        "* Dictionaries are not ordered and they can not be sorted - list are ordered (and unordered) and can be sorted.\n",
        "\n",
        "* Dictionary can store data of different types: floats, integers and strings and can also store lists."
      ]
    },
    {
      "cell_type": "markdown",
      "metadata": {
        "id": "0LH13FnDwfJq"
      },
      "source": [
        "<a name='2-3'></a>\n",
        "\n",
        "### 2.3 Tuples\n",
        "\n",
        "Tuple is similar to list but the difference is that you can't change the values once it is defined (termed as `immutability`). Due to this property it can be used to keep things that you do not want to change in your program. Example can be a country codes, zipcodes, etc...\n",
        "\n"
      ]
    },
    {
      "cell_type": "code",
      "execution_count": null,
      "metadata": {
        "id": "mXy3mtYWxeNC"
      },
      "outputs": [],
      "source": [
        "tup = (1,4,5,6,7,8)"
      ]
    },
    {
      "cell_type": "code",
      "execution_count": null,
      "metadata": {
        "colab": {
          "base_uri": "https://localhost:8080/"
        },
        "id": "WDn6FBozxpn8",
        "outputId": "3bffe88b-ce26-4eea-ae57-b9b9d15481de"
      },
      "outputs": [
        {
          "data": {
            "text/plain": [
              "7"
            ]
          },
          "execution_count": 87,
          "metadata": {},
          "output_type": "execute_result"
        }
      ],
      "source": [
        "# Indexing\n",
        "\n",
        "tup[4]"
      ]
    },
    {
      "cell_type": "code",
      "execution_count": null,
      "metadata": {
        "id": "n4i9sYcVxtTu"
      },
      "outputs": [],
      "source": [
        "## Tuples are not changeable. Running below code will cause an error\n",
        "\n",
        "# tup[2] = 10"
      ]
    },
    {
      "cell_type": "code",
      "execution_count": null,
      "metadata": {
        "id": "DiuL_4xrx8t-"
      },
      "outputs": [],
      "source": [
        "# You can not also add other values to the tuple. This will be error\n",
        "#tup.append(12)"
      ]
    },
    {
      "cell_type": "markdown",
      "metadata": {
        "id": "IELzAECOycaI"
      },
      "source": [
        "<a name='2-4'></a>\n",
        "\n",
        "### 2.4 Sets"
      ]
    },
    {
      "cell_type": "markdown",
      "metadata": {
        "id": "Ul5m3MjMzTih"
      },
      "source": [
        "Sets are used to store the unique elements. They are not ordered like list."
      ]
    },
    {
      "cell_type": "code",
      "execution_count": null,
      "metadata": {
        "colab": {
          "base_uri": "https://localhost:8080/"
        },
        "id": "aJUhhYUBzdXy",
        "outputId": "51daa7c3-4157-4f00-acba-7e2752e054ec"
      },
      "outputs": [
        {
          "data": {
            "text/plain": [
              "{1, 2, 3, 4, 5, 6, 7, 8}"
            ]
          },
          "execution_count": 90,
          "metadata": {},
          "output_type": "execute_result"
        }
      ],
      "source": [
        "set_1 = {1,2,3,4,5,6,7,8}\n",
        "\n",
        "set_1"
      ]
    },
    {
      "cell_type": "code",
      "execution_count": null,
      "metadata": {
        "colab": {
          "base_uri": "https://localhost:8080/"
        },
        "id": "s5vrQMXvzrrn",
        "outputId": "3666c04f-d689-4987-fa24-048a06d0400b"
      },
      "outputs": [
        {
          "data": {
            "text/plain": [
              "{1, 2, 3, 4, 5, 7, 8}"
            ]
          },
          "execution_count": 91,
          "metadata": {},
          "output_type": "execute_result"
        }
      ],
      "source": [
        "set_2 = {1,1,2,3,5,3,2,2,4,5,7,8,8,5}\n",
        "set_2"
      ]
    },
    {
      "cell_type": "markdown",
      "metadata": {
        "id": "1n9h4Q_Vz_Li"
      },
      "source": [
        "As you can see, set only keep unique values. There can't be a repetition of values."
      ]
    },
    {
      "cell_type": "code",
      "execution_count": null,
      "metadata": {
        "colab": {
          "base_uri": "https://localhost:8080/"
        },
        "id": "lsKLPvIp0Mc3",
        "outputId": "5291d7fa-103e-48bb-aece-e9210cc0099c"
      },
      "outputs": [
        {
          "name": "stdout",
          "output_type": "stream",
          "text": [
            "List:[1, 1, 3, 7, 9, 3, 5, 7, 9, 9]\n",
            "********\n",
            "Set:{1, 3, 5, 7, 9}\n"
          ]
        }
      ],
      "source": [
        "# List Vs Set\n",
        "\n",
        "odd_numbers = [1,1,3,7,9,3,5,7,9,9]\n",
        "\n",
        "print(\"List:{}\".format(odd_numbers))\n",
        "\n",
        "print(\"********\")\n",
        "\n",
        "set_odd_numbers = {1,1,3,7,9,3,5,7,9,9}\n",
        "\n",
        "print(\"Set:{}\".format(set_odd_numbers))"
      ]
    },
    {
      "cell_type": "markdown",
      "metadata": {
        "id": "TSqms6Vk2OKk"
      },
      "source": [
        "<a name='3'></a>\n",
        "\n",
        "## 3. Comparison and Logic operators\n",
        "\n",
        "`Comparison` operators are used to compare values. It will either return true or false."
      ]
    },
    {
      "cell_type": "code",
      "execution_count": null,
      "metadata": {
        "colab": {
          "base_uri": "https://localhost:8080/"
        },
        "id": "E0byfFXV2eNO",
        "outputId": "692ed6e7-1e26-404d-c47f-9ed3fafeb780"
      },
      "outputs": [
        {
          "data": {
            "text/plain": [
              "True"
            ]
          },
          "execution_count": 93,
          "metadata": {},
          "output_type": "execute_result"
        }
      ],
      "source": [
        "## Greater than\n",
        "100 > 1"
      ]
    },
    {
      "cell_type": "code",
      "execution_count": null,
      "metadata": {
        "colab": {
          "base_uri": "https://localhost:8080/"
        },
        "id": "fzUdnfqh2gnd",
        "outputId": "f11ecacc-652b-437d-ac2d-eaa96d7007c8"
      },
      "outputs": [
        {
          "data": {
            "text/plain": [
              "False"
            ]
          },
          "execution_count": 94,
          "metadata": {},
          "output_type": "execute_result"
        }
      ],
      "source": [
        "## Equal to\n",
        "\n",
        "100 == 1"
      ]
    },
    {
      "cell_type": "code",
      "execution_count": null,
      "metadata": {
        "colab": {
          "base_uri": "https://localhost:8080/"
        },
        "id": "sW39wpYQ2lBN",
        "outputId": "ce77eb3f-04b1-4223-ca2a-a56736baa944"
      },
      "outputs": [
        {
          "data": {
            "text/plain": [
              "False"
            ]
          },
          "execution_count": 95,
          "metadata": {},
          "output_type": "execute_result"
        }
      ],
      "source": [
        "## Less than\n",
        "\n",
        "100 < 1"
      ]
    },
    {
      "cell_type": "code",
      "execution_count": null,
      "metadata": {
        "colab": {
          "base_uri": "https://localhost:8080/"
        },
        "id": "pmj9bZsy2qH4",
        "outputId": "25968aca-2a82-46fd-f89d-9f6a44c23b90"
      },
      "outputs": [
        {
          "data": {
            "text/plain": [
              "True"
            ]
          },
          "execution_count": 96,
          "metadata": {},
          "output_type": "execute_result"
        }
      ],
      "source": [
        "## Greater or equal to\n",
        "\n",
        "100 >= 1"
      ]
    },
    {
      "cell_type": "code",
      "execution_count": null,
      "metadata": {
        "colab": {
          "base_uri": "https://localhost:8080/"
        },
        "id": "2GQMkYjn3DpW",
        "outputId": "06843fd0-bbc8-42ce-a18e-51ecf1361dfd"
      },
      "outputs": [
        {
          "data": {
            "text/plain": [
              "False"
            ]
          },
          "execution_count": 97,
          "metadata": {},
          "output_type": "execute_result"
        }
      ],
      "source": [
        "## Less or equal to\n",
        "\n",
        "100 <= 1"
      ]
    },
    {
      "cell_type": "code",
      "execution_count": null,
      "metadata": {
        "colab": {
          "base_uri": "https://localhost:8080/"
        },
        "id": "utLU3_7y3KEJ",
        "outputId": "65271608-58ac-4e9a-c110-4a3776ce4c76"
      },
      "outputs": [
        {
          "data": {
            "text/plain": [
              "False"
            ]
          },
          "execution_count": 98,
          "metadata": {},
          "output_type": "execute_result"
        }
      ],
      "source": [
        "'Intro to Python' == 'intro to python'"
      ]
    },
    {
      "cell_type": "code",
      "execution_count": null,
      "metadata": {
        "colab": {
          "base_uri": "https://localhost:8080/"
        },
        "id": "68QTmaFd3YpI",
        "outputId": "8983e42c-c607-4770-ae95-63d36dbc90a0"
      },
      "outputs": [
        {
          "data": {
            "text/plain": [
              "True"
            ]
          },
          "execution_count": 99,
          "metadata": {},
          "output_type": "execute_result"
        }
      ],
      "source": [
        "'Intro to Python' == 'Intro to Python'"
      ]
    },
    {
      "cell_type": "markdown",
      "metadata": {
        "id": "I00qTqfM3d5R"
      },
      "source": [
        "`Logic` operators are used to compare two expressions made by comparison operators.\n",
        "\n",
        "* Logic `and` returns true only when both expressions are true, otherwise false.\n",
        "\n",
        "* Logic `or` returns true when either any of both expressions is true. Only false if both expressions are false.\n",
        "\n",
        "* Logic `not` as you can guess, it will return false when given expression is true, vice versa."
      ]
    },
    {
      "cell_type": "code",
      "execution_count": null,
      "metadata": {
        "colab": {
          "base_uri": "https://localhost:8080/"
        },
        "id": "dlNW3zaW3tHj",
        "outputId": "7ae4a248-3ac9-48a6-827e-ccd5fe532879"
      },
      "outputs": [
        {
          "data": {
            "text/plain": [
              "True"
            ]
          },
          "execution_count": 100,
          "metadata": {},
          "output_type": "execute_result"
        }
      ],
      "source": [
        "100 == 100 and 100 == 100"
      ]
    },
    {
      "cell_type": "code",
      "execution_count": null,
      "metadata": {
        "colab": {
          "base_uri": "https://localhost:8080/"
        },
        "id": "sJ77YW6D5zpq",
        "outputId": "7037d1a0-1641-4294-c01b-f6f21120dc7e"
      },
      "outputs": [
        {
          "data": {
            "text/plain": [
              "False"
            ]
          },
          "execution_count": 101,
          "metadata": {},
          "output_type": "execute_result"
        }
      ],
      "source": [
        "100 <= 10 and 100 == 100"
      ]
    },
    {
      "cell_type": "code",
      "execution_count": null,
      "metadata": {
        "colab": {
          "base_uri": "https://localhost:8080/"
        },
        "id": "W51xeGzr552j",
        "outputId": "493b4a66-30e4-47b5-cf15-4ed46ca62931"
      },
      "outputs": [
        {
          "data": {
            "text/plain": [
              "True"
            ]
          },
          "execution_count": 102,
          "metadata": {},
          "output_type": "execute_result"
        }
      ],
      "source": [
        "100 == 10 or 100 == 100"
      ]
    },
    {
      "cell_type": "code",
      "execution_count": null,
      "metadata": {
        "colab": {
          "base_uri": "https://localhost:8080/"
        },
        "id": "SAN6F8xj59iG",
        "outputId": "10e31953-d7f8-49f4-bfef-95b4ba118ce4"
      },
      "outputs": [
        {
          "data": {
            "text/plain": [
              "False"
            ]
          },
          "execution_count": 103,
          "metadata": {},
          "output_type": "execute_result"
        }
      ],
      "source": [
        "100 == 10 or 100 == 10"
      ]
    },
    {
      "cell_type": "code",
      "execution_count": null,
      "metadata": {
        "colab": {
          "base_uri": "https://localhost:8080/"
        },
        "id": "9MOShqdV6DrH",
        "outputId": "f99699af-e8ec-49c7-d331-ffb6f2c79d9b"
      },
      "outputs": [
        {
          "data": {
            "text/plain": [
              "True"
            ]
          },
          "execution_count": 104,
          "metadata": {},
          "output_type": "execute_result"
        }
      ],
      "source": [
        "not 1 == 2"
      ]
    },
    {
      "cell_type": "code",
      "execution_count": null,
      "metadata": {
        "colab": {
          "base_uri": "https://localhost:8080/"
        },
        "id": "3YYMcUeA6H3c",
        "outputId": "f68b4aed-e0a0-486a-b192-50a829315b63"
      },
      "outputs": [
        {
          "data": {
            "text/plain": [
              "False"
            ]
          },
          "execution_count": 105,
          "metadata": {},
          "output_type": "execute_result"
        }
      ],
      "source": [
        "not 1 == 1"
      ]
    },
    {
      "cell_type": "markdown",
      "metadata": {
        "id": "3LFYoIiX_IdG"
      },
      "source": [
        "<a name='4'></a>\n",
        "## 4. Control Flow\n",
        "As an engineer, you will need to make decisions depending on the particular situation. You will also need to control the flow of the program and this is where `Control Flow` comes in.\n",
        "\n",
        "We will cover:\n",
        "\n",
        "* If statement\n",
        "* For loop\n",
        "* While loop\n",
        "\n",
        "\n",
        "\n"
      ]
    },
    {
      "cell_type": "markdown",
      "metadata": {
        "id": "dECd-PX0i4L0"
      },
      "source": [
        "<a name='4-1'></a>\n",
        "\n",
        "### 4.1 If, Elif, Else"
      ]
    },
    {
      "cell_type": "markdown",
      "metadata": {
        "id": "PNm5yBHvFFZs"
      },
      "source": [
        "\n",
        "\n",
        "Structure of If condition:\n",
        "\n",
        "```\n",
        "if condition:\n",
        "  do something\n",
        "\n",
        "else:\n",
        "  do this\n",
        "```\n"
      ]
    },
    {
      "cell_type": "code",
      "execution_count": null,
      "metadata": {
        "id": "kliJhGlkA-dM"
      },
      "outputs": [],
      "source": [
        "if 100 < 2:\n",
        "\n",
        "  print(\"As expected, no thing will be displayed\")"
      ]
    },
    {
      "cell_type": "code",
      "execution_count": null,
      "metadata": {
        "colab": {
          "base_uri": "https://localhost:8080/"
        },
        "id": "DA6VkMFABLOE",
        "outputId": "12823390-a9ec-4aaa-9af2-e215c4700f87"
      },
      "outputs": [
        {
          "name": "stdout",
          "output_type": "stream",
          "text": [
            "As expected, no thing will be displayed\n"
          ]
        }
      ],
      "source": [
        "if 100 > 2:\n",
        "\n",
        "  print(\"As expected, no thing will be displayed\")"
      ]
    },
    {
      "cell_type": "code",
      "execution_count": null,
      "metadata": {
        "colab": {
          "base_uri": "https://localhost:8080/"
        },
        "id": "tB42MrxeBP9e",
        "outputId": "f13618dc-53c7-4754-b695-a2761c2f49a3"
      },
      "outputs": [
        {
          "name": "stdout",
          "output_type": "stream",
          "text": [
            "Printed\n"
          ]
        }
      ],
      "source": [
        "if 100 < 2:\n",
        "\n",
        "  print(\"As expected, no thing will be displayed\")\n",
        "\n",
        "else:\n",
        "  print('Printed')"
      ]
    },
    {
      "cell_type": "code",
      "execution_count": null,
      "metadata": {
        "colab": {
          "base_uri": "https://localhost:8080/"
        },
        "id": "pJ8gAIF9B147",
        "outputId": "72970118-476a-4412-f72a-a9b38a652a35"
      },
      "outputs": [
        {
          "name": "stdout",
          "output_type": "stream",
          "text": [
            "John is older than Luck\n"
          ]
        }
      ],
      "source": [
        "# Let's assign a number to a variable name 'jean_age' and 'yannick_age'\n",
        "\n",
        "john_age = 30\n",
        "luck_age = 20\n",
        "\n",
        "if john_age > luck_age:\n",
        "  print(\"John is older than Luck\")\n",
        "\n",
        "else:\n",
        "  print(\" John is younger than Luck\")"
      ]
    },
    {
      "cell_type": "code",
      "execution_count": null,
      "metadata": {
        "colab": {
          "base_uri": "https://localhost:8080/"
        },
        "id": "Zl-eiwRICAZg",
        "outputId": "fdbf8cf0-5aa6-4416-9006-6309df3fc3ef"
      },
      "outputs": [
        {
          "name": "stdout",
          "output_type": "stream",
          "text": [
            "John's age is same as Yan\n"
          ]
        }
      ],
      "source": [
        "# Let's use multiple conditions\n",
        "\n",
        "john_age = 30\n",
        "luck_age = 20\n",
        "yan_age = 30\n",
        "\n",
        "if john_age < luck_age:\n",
        "  print(\"John is older than Luck\")\n",
        "\n",
        "elif yan_age == luck_age:\n",
        "  print(\" Yan's Age is same as Luck\")\n",
        "\n",
        "elif luck_age > john_age:\n",
        "  print(\"Luck is older than John\")\n",
        "\n",
        "else:\n",
        "  print(\"John's age is same as Yan\")"
      ]
    },
    {
      "cell_type": "markdown",
      "metadata": {
        "id": "D_mbbtQMRjcA"
      },
      "source": [
        "We can also put if condition into one line of code. This can be useful when you want to make a quick decision between few choices.\n",
        "\n",
        "Here is the structure:\n",
        "\n",
        "`'value_to_return_if_true' if condition else 'value_to_return_if_false'`\n",
        "\n",
        "Let's take some examples..."
      ]
    },
    {
      "cell_type": "code",
      "execution_count": null,
      "metadata": {
        "colab": {
          "base_uri": "https://localhost:8080/",
          "height": 35
        },
        "id": "Yca_thlBSTp1",
        "outputId": "fe1ddd46-ebf6-4ebf-c088-da387fcaa46b"
      },
      "outputs": [
        {
          "data": {
            "text/plain": [
              "'Odd'"
            ]
          },
          "execution_count": 111,
          "metadata": {},
          "output_type": "execute_result"
        }
      ],
      "source": [
        "# Example 1: Return 'Even' if below num is 'Even' and `Odd` if not.\n",
        "\n",
        "num = 45\n",
        "\n",
        "'Even' if num % 2 == 0 else 'Odd'"
      ]
    },
    {
      "cell_type": "code",
      "execution_count": null,
      "metadata": {
        "colab": {
          "base_uri": "https://localhost:8080/"
        },
        "id": "aDxiANsSS-sd",
        "outputId": "48cd7c6d-a835-4ce5-c907-fcc22e2736b5"
      },
      "outputs": [
        {
          "data": {
            "text/plain": [
              "True"
            ]
          },
          "execution_count": 112,
          "metadata": {},
          "output_type": "execute_result"
        }
      ],
      "source": [
        "# Example 2: Return True if a given element is in a list and False if not\n",
        "\n",
        "nums = [1,2,3,4,5,6]\n",
        "\n",
        "True if 3 in nums else False"
      ]
    },
    {
      "cell_type": "markdown",
      "metadata": {
        "id": "DR82CZXPi97L"
      },
      "source": [
        "<a name='4-2'></a>\n",
        "### 4.2 For Loop"
      ]
    },
    {
      "cell_type": "markdown",
      "metadata": {
        "id": "4nNM1F9zEPIU"
      },
      "source": [
        "For loop is used to iterate over list, string, tuples, or dictionary.\n",
        "\n",
        "Structure of for loop:\n",
        "\n",
        "```\n",
        "for item in items:\n",
        "  do something\n",
        "```\n",
        "\n"
      ]
    },
    {
      "cell_type": "code",
      "execution_count": null,
      "metadata": {
        "colab": {
          "base_uri": "https://localhost:8080/"
        },
        "id": "lv8sBhK5EStD",
        "outputId": "20f7abc8-b48b-4adc-d21c-06c36ec5a31f"
      },
      "outputs": [
        {
          "name": "stdout",
          "output_type": "stream",
          "text": [
            "2\n",
            "4\n",
            "6\n",
            "8\n",
            "10\n"
          ]
        }
      ],
      "source": [
        "even_nums = [2,4,6,8,10]\n",
        "\n",
        "for num in even_nums:\n",
        "  print(num)"
      ]
    },
    {
      "cell_type": "code",
      "execution_count": null,
      "metadata": {
        "colab": {
          "base_uri": "https://localhost:8080/"
        },
        "id": "BhUn214hEbul",
        "outputId": "e5ef21eb-2b58-4d0d-a26e-8cf3e66e42c8"
      },
      "outputs": [
        {
          "name": "stdout",
          "output_type": "stream",
          "text": [
            "Mon\n",
            "Tue\n",
            "Wed\n",
            "Thur\n",
            "Fri\n"
          ]
        }
      ],
      "source": [
        "week_days = ['Mon', 'Tue', 'Wed', 'Thur','Fri']\n",
        "\n",
        "for day in week_days:\n",
        "  print(day)"
      ]
    },
    {
      "cell_type": "code",
      "execution_count": null,
      "metadata": {
        "colab": {
          "base_uri": "https://localhost:8080/"
        },
        "id": "IDhmxmTGF3ui",
        "outputId": "bfe3c5c6-a913-4d75-e5cd-983de528e8e6"
      },
      "outputs": [
        {
          "name": "stdout",
          "output_type": "stream",
          "text": [
            "I\n",
            "t\n",
            "'\n",
            "s\n",
            " \n",
            "b\n",
            "e\n",
            "e\n",
            "n\n",
            " \n",
            "a\n",
            " \n",
            "l\n",
            "o\n",
            "n\n",
            "g\n",
            " \n",
            "t\n",
            "i\n",
            "m\n",
            "e\n",
            " \n",
            "l\n",
            "e\n",
            "a\n",
            "r\n",
            "n\n",
            "i\n",
            "n\n",
            "g\n",
            " \n",
            "P\n",
            "y\n",
            "t\n",
            "h\n",
            "o\n",
            "n\n",
            ".\n",
            " \n",
            "I\n",
            " \n",
            "a\n",
            "m\n",
            " \n",
            "r\n",
            "e\n",
            "v\n",
            "i\n",
            "s\n",
            "i\n",
            "t\n",
            "i\n",
            "n\n",
            "g\n",
            " \n",
            "t\n",
            "h\n",
            "e\n",
            " \n",
            "b\n",
            "a\n",
            "s\n",
            "i\n",
            "c\n",
            "s\n",
            "!\n",
            "!\n"
          ]
        }
      ],
      "source": [
        "sentence = \"It's been a long time learning Python. I am revisiting the basics!!\"\n",
        "\n",
        "for letter in sentence:\n",
        "  print(letter)"
      ]
    },
    {
      "cell_type": "code",
      "execution_count": null,
      "metadata": {
        "colab": {
          "base_uri": "https://localhost:8080/"
        },
        "id": "WJvsmovUGLMf",
        "outputId": "25a9c7cf-1644-41e6-808f-bfa4ab7daf1d"
      },
      "outputs": [
        {
          "name": "stdout",
          "output_type": "stream",
          "text": [
            "It's\n",
            "been\n",
            "a\n",
            "long\n",
            "time\n",
            "learning\n",
            "Python.\n",
            "I\n",
            "am\n",
            "revisiting\n",
            "the\n",
            "basics!!\n"
          ]
        }
      ],
      "source": [
        "sentence = \"It's been a long time learning Python. I am revisiting the basics!!\"\n",
        "\n",
        "# split is a string method to split the words making the string\n",
        "\n",
        "for letter in sentence.split():\n",
        "  print(letter)"
      ]
    },
    {
      "cell_type": "code",
      "execution_count": null,
      "metadata": {
        "colab": {
          "base_uri": "https://localhost:8080/"
        },
        "id": "iPMw20rMGfiP",
        "outputId": "735e5a51-1013-40ec-ab2a-83cd1f6aeee7"
      },
      "outputs": [
        {
          "name": "stdout",
          "output_type": "stream",
          "text": [
            "United States\n",
            "India\n",
            "Germany\n",
            "China\n",
            "Rwanda\n"
          ]
        }
      ],
      "source": [
        "# For loop in dictionary\n",
        "\n",
        "countries_code = { \"United States\": 1,\n",
        "                 \"India\": 91,\n",
        "                 \"Germany\": 49,\n",
        "                 \"China\": 86,\n",
        "                 \"Rwanda\":250\n",
        "            }\n",
        "\n",
        "for country in countries_code:\n",
        "  print(country)"
      ]
    },
    {
      "cell_type": "code",
      "execution_count": null,
      "metadata": {
        "colab": {
          "base_uri": "https://localhost:8080/"
        },
        "id": "wsxejcLhGuhR",
        "outputId": "f9e78e4d-4a1f-489d-d92f-95de770f18bd"
      },
      "outputs": [
        {
          "name": "stdout",
          "output_type": "stream",
          "text": [
            "1\n",
            "91\n",
            "49\n",
            "86\n",
            "250\n"
          ]
        }
      ],
      "source": [
        "for code in countries_code.values():\n",
        "  print(code)"
      ]
    },
    {
      "cell_type": "markdown",
      "metadata": {
        "id": "BlKSXtqtJsCn"
      },
      "source": [
        "For can also be used to iterate over an sequence of numbers. `Range` is used to generate the sequence of numbers.\n",
        "\n",
        "\n",
        "\n",
        "```\n",
        "for number in range:\n",
        "  do something\n",
        "```\n",
        "\n"
      ]
    },
    {
      "cell_type": "code",
      "execution_count": null,
      "metadata": {
        "colab": {
          "base_uri": "https://localhost:8080/"
        },
        "id": "9JtM6IVQKEOr",
        "outputId": "4d995ca0-dda8-470a-aeaa-2b5964e33cb0"
      },
      "outputs": [
        {
          "name": "stdout",
          "output_type": "stream",
          "text": [
            "0\n",
            "1\n",
            "2\n",
            "3\n",
            "4\n",
            "5\n",
            "6\n",
            "7\n",
            "8\n",
            "9\n"
          ]
        }
      ],
      "source": [
        "for number in range(10):\n",
        "  print(number)"
      ]
    },
    {
      "cell_type": "code",
      "execution_count": null,
      "metadata": {
        "colab": {
          "base_uri": "https://localhost:8080/"
        },
        "id": "Rrd4cXk5KYCq",
        "outputId": "4ca9aed3-2e87-4d30-f574-a4ddf2abe87c"
      },
      "outputs": [
        {
          "name": "stdout",
          "output_type": "stream",
          "text": [
            "10\n",
            "11\n",
            "12\n",
            "13\n",
            "14\n",
            "15\n",
            "16\n",
            "17\n",
            "18\n",
            "19\n"
          ]
        }
      ],
      "source": [
        "for number in range(10, 20):\n",
        "  print(number)"
      ]
    },
    {
      "cell_type": "markdown",
      "metadata": {
        "id": "N9liuYozLIKp"
      },
      "source": [
        "One last thing about `for loop` is that we can use it to make a list. This is called list comprehension."
      ]
    },
    {
      "cell_type": "code",
      "execution_count": null,
      "metadata": {
        "colab": {
          "base_uri": "https://localhost:8080/"
        },
        "id": "4-N327iaLZQP",
        "outputId": "584dfca6-d844-45c8-c556-553e1587e33d"
      },
      "outputs": [
        {
          "data": {
            "text/plain": [
              "['M', 'a', 'c', 'h', 'i', 'n', 'e', 'L', 'e', 'a', 'r', 'n', 'i', 'n', 'g']"
            ]
          },
          "execution_count": 121,
          "metadata": {},
          "output_type": "execute_result"
        }
      ],
      "source": [
        "letters = []\n",
        "\n",
        "for letter in 'MachineLearning':\n",
        "  letters.append(letter)\n",
        "\n",
        "letters"
      ]
    },
    {
      "cell_type": "markdown",
      "metadata": {
        "id": "VkOTDujzL7re"
      },
      "source": [
        "The above code can be simplified to the following code:"
      ]
    },
    {
      "cell_type": "code",
      "execution_count": null,
      "metadata": {
        "colab": {
          "base_uri": "https://localhost:8080/"
        },
        "id": "XKPCOnUJMBlu",
        "outputId": "420eac32-2e40-4893-a9bc-160c29139059"
      },
      "outputs": [
        {
          "data": {
            "text/plain": [
              "['M', 'a', 'c', 'h', 'i', 'n', 'e', 'L', 'e', 'a', 'r', 'n', 'i', 'n', 'g']"
            ]
          },
          "execution_count": 122,
          "metadata": {},
          "output_type": "execute_result"
        }
      ],
      "source": [
        "letters = [letter for letter in 'MachineLearning']\n",
        "\n",
        "letters"
      ]
    },
    {
      "cell_type": "markdown",
      "metadata": {
        "id": "UNgH0qhbHWEm"
      },
      "source": [
        "<a name='4-3'></a>\n",
        "\n",
        "### 4.3 While loop\n",
        "\n",
        "While loop will executes the statement(s) as long as the condition is true.\n",
        "\n",
        "Structure of while loop\n",
        "\n",
        "\n",
        "\n",
        "```\n",
        "while condition:\n",
        "  statement(s)\n",
        "```\n",
        "\n"
      ]
    },
    {
      "cell_type": "code",
      "execution_count": null,
      "metadata": {
        "colab": {
          "base_uri": "https://localhost:8080/"
        },
        "id": "STL6xiWTHp3w",
        "outputId": "c29cccc6-3e0a-4c2b-e625-ffd4d4a1b9a7"
      },
      "outputs": [
        {
          "name": "stdout",
          "output_type": "stream",
          "text": [
            "a is: 10\n",
            "a is: 11\n",
            "a is: 12\n",
            "a is: 13\n",
            "a is: 14\n",
            "a is: 15\n",
            "a is: 16\n",
            "a is: 17\n",
            "a is: 18\n",
            "a is: 19\n"
          ]
        }
      ],
      "source": [
        "a = 10\n",
        "while a < 20:\n",
        "    print('a is: {}'.format(a))\n",
        "    a = a + 1"
      ]
    },
    {
      "cell_type": "markdown",
      "metadata": {
        "id": "i_kah8CoLNf1"
      },
      "source": [
        "<a name='5'></a>\n",
        "\n",
        "## 5. Functions\n",
        "\n",
        "Functions are used to write codes or statements that can be used multiple times with different parameters.\n",
        "\n",
        "One fundamental rule in programming is \"DRY\" or Do not Repeat Yourself. Functions will help to not repeat yourself.\n",
        "\n",
        "This is how you define a function in Python:\n",
        "\n",
        "```\n",
        "def function_name(parameters):\n",
        "\n",
        "  \"\"\"\n",
        "  This is Doc String\n",
        "  You can use it to notes about the functions\n",
        "  \"\"\"\n",
        "  statements\n",
        "\n",
        "  return results\n",
        "```\n",
        "* `function_name` is the name of the function. It must not be similar to any built in functions. We will see built in functions later.\n",
        "* `parameters` are the values that are passed to the function.\n",
        "* `Doc String` is used to add notes about the function. It is not a must to use it but it is a `good practice`.\n",
        "\n",
        "* `return` specify something or value that you want to return everytime you call or run your function.\n",
        "\n"
      ]
    },
    {
      "cell_type": "code",
      "execution_count": null,
      "metadata": {
        "id": "PaLZl1rAMKFP"
      },
      "outputs": [],
      "source": [
        "# Function to add two numbers and return a sum\n",
        "\n",
        "def add_nums(a,b):\n",
        "\n",
        "  \"\"\"\n",
        "  Function to add two numbers given as inputs\n",
        "  It will return a sum of these two numbers\n",
        "  \"\"\"\n",
        "\n",
        "  sum = a+b\n",
        "\n",
        "  return sum"
      ]
    },
    {
      "cell_type": "code",
      "execution_count": null,
      "metadata": {
        "colab": {
          "base_uri": "https://localhost:8080/"
        },
        "id": "2ZC1shNkMXiW",
        "outputId": "21911973-ef53-4c0f-d9b6-d7c5ae93d270"
      },
      "outputs": [
        {
          "data": {
            "text/plain": [
              "6"
            ]
          },
          "execution_count": 125,
          "metadata": {},
          "output_type": "execute_result"
        }
      ],
      "source": [
        "add_nums(2,4)"
      ]
    },
    {
      "cell_type": "code",
      "execution_count": null,
      "metadata": {
        "colab": {
          "base_uri": "https://localhost:8080/"
        },
        "id": "7b5NRnJknUoM",
        "outputId": "43375893-6316-45cb-9e3c-23119adc159f"
      },
      "outputs": [
        {
          "data": {
            "text/plain": [
              "9"
            ]
          },
          "execution_count": 126,
          "metadata": {},
          "output_type": "execute_result"
        }
      ],
      "source": [
        "add_nums(4,5)"
      ]
    },
    {
      "cell_type": "code",
      "execution_count": null,
      "metadata": {
        "colab": {
          "base_uri": "https://localhost:8080/"
        },
        "id": "q6ZlApF1uOQa",
        "outputId": "aa353c28-19b5-4327-c845-2e187452ee83"
      },
      "outputs": [
        {
          "name": "stdout",
          "output_type": "stream",
          "text": [
            "\n",
            "  Function to add two numbers given as inputs\n",
            "  It will return a sum of these two numbers\n",
            "  \n"
          ]
        }
      ],
      "source": [
        "# Displaying the doc string noted early\n",
        "\n",
        "print(add_nums.__doc__)"
      ]
    },
    {
      "cell_type": "code",
      "execution_count": null,
      "metadata": {
        "id": "cS9vtHboMjDM"
      },
      "outputs": [],
      "source": [
        "def activity(name_1, name_2):\n",
        "\n",
        "  print(\"{} and {} are playing basketball!\".format(name_1, name_2))"
      ]
    },
    {
      "cell_type": "code",
      "execution_count": null,
      "metadata": {
        "colab": {
          "base_uri": "https://localhost:8080/"
        },
        "id": "PwWx1JKInAy9",
        "outputId": "9f01176f-57ad-4cac-d39a-6e46528c8a98"
      },
      "outputs": [
        {
          "name": "stdout",
          "output_type": "stream",
          "text": [
            "Chris and Francois are playing basketball!\n"
          ]
        }
      ],
      "source": [
        "activity(\"Chris\", \"Francois\")"
      ]
    },
    {
      "cell_type": "code",
      "execution_count": null,
      "metadata": {
        "colab": {
          "base_uri": "https://localhost:8080/"
        },
        "id": "LzIRq3C_nPsk",
        "outputId": "1365d31e-0603-4747-d17d-2935ea9aaead"
      },
      "outputs": [
        {
          "name": "stdout",
          "output_type": "stream",
          "text": [
            "Kennedy and Kleber are playing basketball!\n"
          ]
        }
      ],
      "source": [
        "activity(\"Kennedy\", \"Kleber\")"
      ]
    },
    {
      "cell_type": "markdown",
      "metadata": {
        "id": "ljGxEw6onphY"
      },
      "source": [
        "As you can see, functions do not need to always have `return`. When you only want to display the customized message (not involving expression), `print()` will be enough."
      ]
    },
    {
      "cell_type": "markdown",
      "metadata": {
        "id": "UdBoHK66wJIj"
      },
      "source": [
        "<a name='6'></a>\n",
        "\n",
        "## 6. Lamdba Functions\n",
        "\n",
        "There are times that you want to create anonymous functions. These types of functions will only need to have one expressions.\n"
      ]
    },
    {
      "cell_type": "code",
      "execution_count": null,
      "metadata": {
        "colab": {
          "base_uri": "https://localhost:8080/"
        },
        "id": "M7QssT3XyBUa",
        "outputId": "f3b4bf11-ed3a-4aef-9df2-966a869a0639"
      },
      "outputs": [
        {
          "data": {
            "text/plain": [
              "4"
            ]
          },
          "execution_count": 131,
          "metadata": {},
          "output_type": "execute_result"
        }
      ],
      "source": [
        "## Sum of two numbers\n",
        "\n",
        "def add_nums(a,b):\n",
        "\n",
        "  sum = a+b\n",
        "\n",
        "  return sum\n",
        "\n",
        "add_nums(1,3)"
      ]
    },
    {
      "cell_type": "markdown",
      "metadata": {
        "id": "QZEDAQ91yN2V"
      },
      "source": [
        "We can use lambda to make the same function in just one line of code! Let's do it!!"
      ]
    },
    {
      "cell_type": "code",
      "execution_count": null,
      "metadata": {
        "colab": {
          "base_uri": "https://localhost:8080/"
        },
        "id": "3KuUmPLRyVMv",
        "outputId": "18f70243-45d5-42ef-eef3-8d08b8c0bbf3"
      },
      "outputs": [
        {
          "data": {
            "text/plain": [
              "9"
            ]
          },
          "execution_count": 132,
          "metadata": {},
          "output_type": "execute_result"
        }
      ],
      "source": [
        "sum_of_two_nums = lambda c,d: c + d\n",
        "\n",
        "sum_of_two_nums(4,5)"
      ]
    },
    {
      "cell_type": "markdown",
      "metadata": {
        "id": "uyY1LsFnoZdF"
      },
      "source": [
        "## <a name='7'></a>\n",
        "\n",
        "## 7. Built in Functions\n",
        "\n",
        "Python being a high level programming language, it has bunch of built in functions which make it easy to get quick computations done.\n",
        "\n",
        "An example of built in functions we used is `len()` which gives the length of the string or the list givhttps://github.com/Nyandwi/python_basics/blob/main/n as the input to it.\n",
        "\n",
        "Here is a full preview on all [Python Built in functions](https://docs.python.org/3/library/functions.html).\n",
        "\n",
        "![py_functions](https://raw.githubusercontent.com/Nyandwi/PythonBasics/main/py-built-func.jpg)"
      ]
    },
    {
      "cell_type": "code",
      "execution_count": null,
      "metadata": {
        "colab": {
          "base_uri": "https://localhost:8080/"
        },
        "id": "z9jRgZSSoiNv",
        "outputId": "73f486fe-5917-4b5e-b31b-59db44852609"
      },
      "outputs": [
        {
          "data": {
            "text/plain": [
              "15"
            ]
          },
          "execution_count": 133,
          "metadata": {},
          "output_type": "execute_result"
        }
      ],
      "source": [
        "# using len() to count the length of the string\n",
        "\n",
        "message = 'Do not give up!'\n",
        "len(message)"
      ]
    },
    {
      "cell_type": "code",
      "execution_count": null,
      "metadata": {
        "colab": {
          "base_uri": "https://localhost:8080/"
        },
        "id": "DgJ5lG1Vp84a",
        "outputId": "54354bcf-80a1-4cbd-a59e-59790c4b210c"
      },
      "outputs": [
        {
          "data": {
            "text/plain": [
              "4"
            ]
          },
          "execution_count": 134,
          "metadata": {},
          "output_type": "execute_result"
        }
      ],
      "source": [
        "odd_numbers = [1,3,5,7]\n",
        "len(odd_numbers)"
      ]
    },
    {
      "cell_type": "code",
      "execution_count": null,
      "metadata": {
        "colab": {
          "base_uri": "https://localhost:8080/"
        },
        "id": "ak5Xm5vhqGAL",
        "outputId": "eb679a70-e8f3-40e0-daab-ac03f1722e97"
      },
      "outputs": [
        {
          "data": {
            "text/plain": [
              "7"
            ]
          },
          "execution_count": 135,
          "metadata": {},
          "output_type": "execute_result"
        }
      ],
      "source": [
        "# Using max() to find the maximum number in a list\n",
        "\n",
        "odd_numbers = [1,3,5,7]\n",
        "max(odd_numbers)"
      ]
    },
    {
      "cell_type": "code",
      "execution_count": null,
      "metadata": {
        "colab": {
          "base_uri": "https://localhost:8080/"
        },
        "id": "4_nIijESsGYj",
        "outputId": "8d176183-a12f-4897-ef41-59834acd237e"
      },
      "outputs": [
        {
          "data": {
            "text/plain": [
              "1"
            ]
          },
          "execution_count": 136,
          "metadata": {},
          "output_type": "execute_result"
        }
      ],
      "source": [
        "# Using min() to find the minimum number in a list\n",
        "\n",
        "min(odd_numbers)"
      ]
    },
    {
      "cell_type": "code",
      "execution_count": null,
      "metadata": {
        "colab": {
          "base_uri": "https://localhost:8080/"
        },
        "id": "rayIhzYzsNe_",
        "outputId": "c0780c20-7d6e-48ee-9f23-bf1052a1ac4a"
      },
      "outputs": [
        {
          "data": {
            "text/plain": [
              "[1, 3, 5, 7, 9, 11, 13, 15]"
            ]
          },
          "execution_count": 137,
          "metadata": {},
          "output_type": "execute_result"
        }
      ],
      "source": [
        "# Sorting the list with sorted()\n",
        "\n",
        "odd_numbers = [9,7,3,5,11,13,15,1]\n",
        "\n",
        "sorted(odd_numbers)"
      ]
    },
    {
      "cell_type": "markdown",
      "metadata": {
        "id": "WYX_BY1Tu7PJ"
      },
      "source": [
        "Let's learn two more useful built functions: they are `map` and `filter`. You can try to explore or use more built in functions on your own."
      ]
    },
    {
      "cell_type": "markdown",
      "metadata": {
        "id": "8lOs84gi2ZMW"
      },
      "source": [
        "<a name='7-1'></a>\n",
        "\n",
        "### 7.1 Map function\n",
        "\n",
        "Map gives you the ability to apply a function to an iterable structures such as list. When used with a list for example, you can apply the function to every element of the list.\n",
        "\n",
        "Let's see how it works.\n"
      ]
    },
    {
      "cell_type": "code",
      "execution_count": null,
      "metadata": {
        "id": "W0vcZBUD27ah"
      },
      "outputs": [],
      "source": [
        "def cubic(number):\n",
        "  return number ** 3"
      ]
    },
    {
      "cell_type": "code",
      "execution_count": null,
      "metadata": {
        "id": "bsf6dgts3O2Y"
      },
      "outputs": [],
      "source": [
        "num_list = [0,1,2,3,4]"
      ]
    },
    {
      "cell_type": "code",
      "execution_count": null,
      "metadata": {
        "colab": {
          "base_uri": "https://localhost:8080/"
        },
        "id": "alUGYCrp3eh9",
        "outputId": "a46328b2-f18b-4a3c-a794-c8e298fc290b"
      },
      "outputs": [
        {
          "data": {
            "text/plain": [
              "[0, 1, 8, 27, 64]"
            ]
          },
          "execution_count": 140,
          "metadata": {},
          "output_type": "execute_result"
        }
      ],
      "source": [
        "# Applying `map` to the num_list to just return the list where each element is cubed...(xxx3)\n",
        "\n",
        "list(map(cubic, num_list))"
      ]
    },
    {
      "cell_type": "markdown",
      "metadata": {
        "id": "Lwoq1ore4gX8"
      },
      "source": [
        "<a name='7-2'></a>\n",
        "\n",
        "### 7.2 Filter function\n",
        "\n",
        "Let's say that you have a list of numbers and you want to filter the list and remain with odd numbers. Odd number is any number which can not be divided by 2.\n",
        "\n",
        "You can develop a function to calculate it but you would have to always pass single value or values but not entire list.\n",
        "\n",
        "Using `filter`, you can return `true` for every element of list evaluated by the function."
      ]
    },
    {
      "cell_type": "code",
      "execution_count": null,
      "metadata": {
        "id": "WYPtPI8H5jt8"
      },
      "outputs": [],
      "source": [
        "def odd_check(number):\n",
        "\n",
        "  return number % 2 != 0\n",
        "\n",
        "# != is not equal to operation"
      ]
    },
    {
      "cell_type": "code",
      "execution_count": null,
      "metadata": {
        "colab": {
          "base_uri": "https://localhost:8080/"
        },
        "id": "Yz06GwMG57tp",
        "outputId": "aa8eeebd-21cd-4a7d-b379-42b21cc0e7eb"
      },
      "outputs": [
        {
          "data": {
            "text/plain": [
              "[1, 5, 7, 9, 11]"
            ]
          },
          "execution_count": 142,
          "metadata": {},
          "output_type": "execute_result"
        }
      ],
      "source": [
        "num_list = [1,2,4,5,6,7,8,9,10,11]\n",
        "\n",
        "list(filter(odd_check, num_list))"
      ]
    },
    {
      "cell_type": "markdown",
      "metadata": {
        "id": "Svoes7X-TzZ2"
      },
      "source": [
        "<a name='8'></a>\n",
        "\n",
        "## 8. More Useful Python Stuff"
      ]
    },
    {
      "cell_type": "markdown",
      "metadata": {
        "id": "KVoGtQLbUBtw"
      },
      "source": [
        "Python is an awesome programming language that has a lot of useful functions.\n",
        "\n",
        "Let's see more useful things you may need beyond what's we just saw already."
      ]
    },
    {
      "cell_type": "markdown",
      "metadata": {
        "id": "mL3B-qcKUT0V"
      },
      "source": [
        "### 8.1 List Comprehension"
      ]
    },
    {
      "cell_type": "markdown",
      "metadata": {
        "id": "6Fj2keTkUaLs"
      },
      "source": [
        "List comprehension makes it easy to make a new list from an existing list based on a given conditions. It's very concise and readable.\n",
        "\n",
        "Take an example for the following cases."
      ]
    },
    {
      "cell_type": "code",
      "execution_count": null,
      "metadata": {
        "colab": {
          "base_uri": "https://localhost:8080/"
        },
        "id": "koXKO-YBXg7h",
        "outputId": "df4e9239-6182-4528-9801-f9b07197e50d"
      },
      "outputs": [
        {
          "name": "stdout",
          "output_type": "stream",
          "text": [
            "[2, 4, 6, 8, 10, 12, 14, 16, 18]\n"
          ]
        }
      ],
      "source": [
        "# Given a list of numbers, can you make a new list of even numbers from the list nums?\n",
        "# Even numbers are numbers divisible by 2, and they give the remainder of 0\n",
        "\n",
        "nums = range(1,20)\n",
        "even_nums = []\n",
        "\n",
        "\n",
        "# A traditional way to do it is:\n",
        "\n",
        "for num in nums:\n",
        "  if num % 2 == 0:\n",
        "    even_nums.append(num)\n",
        "\n",
        "print(even_nums)"
      ]
    },
    {
      "cell_type": "markdown",
      "metadata": {
        "id": "On4y8_jRY1pT"
      },
      "source": [
        "A more concise and easy way to do that is to use list comprehension."
      ]
    },
    {
      "cell_type": "code",
      "execution_count": null,
      "metadata": {
        "colab": {
          "base_uri": "https://localhost:8080/"
        },
        "id": "Qlmc7atXY_ZB",
        "outputId": "4eeda4bc-6a8c-4e4e-d88e-78863593e347"
      },
      "outputs": [
        {
          "name": "stdout",
          "output_type": "stream",
          "text": [
            "[2, 4, 6, 8, 10, 12, 14, 16, 18]\n"
          ]
        }
      ],
      "source": [
        "even_nums = [num for num in nums if num % 2 == 0]\n",
        "print(even_nums)"
      ]
    },
    {
      "cell_type": "markdown",
      "metadata": {
        "id": "usia15jeZTeu"
      },
      "source": [
        "You can see it's pretty simple. And more readable than the former. Let's take another example."
      ]
    },
    {
      "cell_type": "code",
      "execution_count": null,
      "metadata": {
        "colab": {
          "base_uri": "https://localhost:8080/"
        },
        "id": "MOLI8nVrZYoW",
        "outputId": "80f606b8-f33c-41c9-aeea-efef6111cdd9"
      },
      "outputs": [
        {
          "name": "stdout",
          "output_type": "stream",
          "text": [
            "['Tuesday', 'Thursday']\n"
          ]
        }
      ],
      "source": [
        "days = ['Monday', 'Tuesday', 'Wednesday', 'Thursday', 'Friday', 'Saturday']\n",
        "day_T = []\n",
        "\n",
        "# Make a list of days that start with `T`\n",
        "\n",
        "for day in days:\n",
        "  if day[0] == 'T':\n",
        "    day_T.append(day)\n",
        "\n",
        "print(day_T)"
      ]
    },
    {
      "cell_type": "markdown",
      "metadata": {
        "id": "fwm2skAJa5gn"
      },
      "source": [
        "A more concise way to do it would be:"
      ]
    },
    {
      "cell_type": "code",
      "execution_count": null,
      "metadata": {
        "colab": {
          "base_uri": "https://localhost:8080/"
        },
        "id": "-m-9Aqjka9qU",
        "outputId": "19b9087d-f9ab-4e91-a762-1fdb8229d84b"
      },
      "outputs": [
        {
          "name": "stdout",
          "output_type": "stream",
          "text": [
            "['Tuesday', 'Thursday']\n"
          ]
        }
      ],
      "source": [
        "day_T = [day for day in days if day[0] == 'T']\n",
        "print(day_T)"
      ]
    },
    {
      "cell_type": "markdown",
      "metadata": {
        "id": "iU8ylnxKWmMf"
      },
      "source": [
        "### 8.2 Enumerate Function"
      ]
    },
    {
      "cell_type": "markdown",
      "metadata": {
        "id": "iSej80ASb_eb"
      },
      "source": [
        "Enumerate function convert iterable objects into enumerate object. It basically returns a tuple that also contain a counter.\n",
        "\n",
        "That's sounds hard, but with examples, you can see how powerful this function is..."
      ]
    },
    {
      "cell_type": "code",
      "execution_count": null,
      "metadata": {
        "colab": {
          "base_uri": "https://localhost:8080/"
        },
        "id": "WibF3Munca0U",
        "outputId": "057678f1-9ae9-42a8-d61a-e17e96e6afe8"
      },
      "outputs": [
        {
          "data": {
            "text/plain": [
              "[(0, 'Spring'), (1, 'Summer'), (2, 'Fall'), (3, 'Winter')]"
            ]
          },
          "execution_count": 147,
          "metadata": {},
          "output_type": "execute_result"
        }
      ],
      "source": [
        "seasons = ['Spring', 'Summer', 'Fall', 'Winter']\n",
        "\n",
        "list(enumerate(seasons))"
      ]
    },
    {
      "cell_type": "markdown",
      "metadata": {
        "id": "a2ISSpE-c9YE"
      },
      "source": [
        "As you can see, each element came with index counter automatically. The counter initially start at 0, but we can change it."
      ]
    },
    {
      "cell_type": "code",
      "execution_count": null,
      "metadata": {
        "colab": {
          "base_uri": "https://localhost:8080/"
        },
        "id": "VTFXbLr_dc1i",
        "outputId": "572ef0a5-9807-49b7-cc0b-5e4b1c162b56"
      },
      "outputs": [
        {
          "data": {
            "text/plain": [
              "[(1, 'Spring'), (2, 'Summer'), (3, 'Fall'), (4, 'Winter')]"
            ]
          },
          "execution_count": 148,
          "metadata": {},
          "output_type": "execute_result"
        }
      ],
      "source": [
        "list(enumerate(seasons, start=1))"
      ]
    },
    {
      "cell_type": "markdown",
      "metadata": {
        "id": "T8Z522_3eIPX"
      },
      "source": [
        "Here is another example:"
      ]
    },
    {
      "cell_type": "code",
      "execution_count": null,
      "metadata": {
        "colab": {
          "base_uri": "https://localhost:8080/"
        },
        "id": "fqeWYORBc8in",
        "outputId": "14dd00ee-4855-4c60-b497-7617d2fd1440"
      },
      "outputs": [
        {
          "name": "stdout",
          "output_type": "stream",
          "text": [
            "0 - Rock\n",
            "1 - Paper\n",
            "2 - Scissor\n"
          ]
        }
      ],
      "source": [
        "class_names = ['Rock', 'Paper', 'Scissor']\n",
        "\n",
        "for index, class_name in enumerate(class_names, start=0):\n",
        "  print(index,'-',class_name)"
      ]
    },
    {
      "cell_type": "markdown",
      "metadata": {
        "id": "4yCl-dG1eO2C"
      },
      "source": [
        "### 8.3 Zip Function"
      ]
    },
    {
      "cell_type": "markdown",
      "metadata": {
        "id": "uXM_FqareiWw"
      },
      "source": [
        "Zip is an incredible function that takes two iterators and returns a pair of corresponsing elements as a tuple."
      ]
    },
    {
      "cell_type": "code",
      "execution_count": null,
      "metadata": {
        "colab": {
          "base_uri": "https://localhost:8080/"
        },
        "id": "VPUuYcJJe5Eu",
        "outputId": "d690b1c1-aa17-4d2f-9c73-4a16b3156832"
      },
      "outputs": [
        {
          "data": {
            "text/plain": [
              "<zip at 0x107ebc9c0>"
            ]
          },
          "execution_count": 150,
          "metadata": {},
          "output_type": "execute_result"
        }
      ],
      "source": [
        "name = ['Jessy', 'Joe', 'Jeannette']\n",
        "role = ['ML Engineer', 'Web Developer', 'Data Engineer']\n",
        "\n",
        "zipped_name_role = zip(name, role)\n",
        "zipped_name_role"
      ]
    },
    {
      "cell_type": "markdown",
      "metadata": {
        "id": "FKvYS_glfjrs"
      },
      "source": [
        "The zip object return nothing. In order to show the zipped elements, we can use a list. It's also same thing for enumerate you saw above."
      ]
    },
    {
      "cell_type": "code",
      "execution_count": null,
      "metadata": {
        "colab": {
          "base_uri": "https://localhost:8080/"
        },
        "id": "R2r_01K9fylb",
        "outputId": "79ce3437-2b07-4496-e5df-a225b54f113d"
      },
      "outputs": [
        {
          "data": {
            "text/plain": [
              "[('Jessy', 'ML Engineer'),\n",
              " ('Joe', 'Web Developer'),\n",
              " ('Jeannette', 'Data Engineer')]"
            ]
          },
          "execution_count": 151,
          "metadata": {},
          "output_type": "execute_result"
        }
      ],
      "source": [
        "list(zipped_name_role)"
      ]
    },
    {
      "cell_type": "markdown",
      "metadata": {
        "id": "ipgT7Bcxp8Bm"
      },
      "source": [
        "*This is the end of the lab. The basics of the programming are always good to have, and hopefully this single notebook provided all the necessary things to know about Python.*"
      ]
    },
    {
      "cell_type": "markdown",
      "metadata": {
        "id": "FfUaH8PZjXn6"
      },
      "source": [
        "### 9. Additional reading material\n",
        "\n",
        "You can skip this section if you do not need to go in depth into learning python, however here are some resources to help you if you want to learn more python before moving to the next section -numpy for data computations. There are different formats from books to video tutorials based on your learning style.\n",
        "\n",
        "**Books:**\n",
        "\n",
        "2. [Automate the Boring Stuff with Python](https://automatetheboringstuff.com/#toc) by Al Sweigart - Teaches Python through practical examples and automation tasks.\n",
        "\n",
        "4. [Python for Data Analysis](https://wesmckinney.com/book/) by Wes McKinney - Focuses on using Python for data manipulation and analysis.\n",
        "5. \"Fluent Python\" by Luciano Ramalho - A more advanced book that delves into Python's intricacies and best practices.\n",
        "\n",
        "\n",
        "**Online Courses:**\n",
        "1. [Codecademy - Learn Python](https://www.codecademy.com/learn/learn-python)\n",
        "2. [Coursera - Programming for Everybody (Getting Started with Python)](https://www.coursera.org/learn/python)\n",
        "3. [Udemy (paid) - Complete Python Bootcamp](https://www.udemy.com/course/complete-python-bootcamp/)\n",
        "\n",
        "**Video Tutorials:**\n",
        "1. [Corey Schafer's Python tutorials](https://www.youtube.com/playlist?list=PL-osiE80TeTskrapNbzXhwoFUiLCjGgY7)\n",
        "2. [YouTube - sentdex](https://www.youtube.com/user/sentdex)\n",
        "3. [YouTube - Tech With Tim](https://www.youtube.com/channel/UC4JX40jDee_tINbkjycV4Sg)\n",
        "4. [Udemy - Complete Python Bootcamp by Jose Portilla](https://www.udemy.com/course/complete-python-bootcamp/)\n",
        "5. [Coursera - Python for Everybody by University of Michigan](https://www.coursera.org/specializations/python)\n",
        "6. [Khan Academy - Python tutorials](https://www.khanacademy.org/computing/computer-programming)\n",
        "\n",
        "**Website:**\n",
        "- [w3schools - Python](https://www.w3schools.com/python/)\n",
        "\n",
        "*Note: Suggested resources are not affiliated or sponsoring this project.*"
      ]
    },
    {
      "cell_type": "markdown",
      "metadata": {
        "id": "9kfdbcevQQ6T"
      },
      "source": [
        "## [BACK TO TOP](#0)"
      ]
    }
  ],
  "metadata": {
    "colab": {
      "name": "0. Intro to Python for Machine Learning.ipynb",
      "provenance": []
    },
    "kernelspec": {
      "display_name": "Python 3 (ipykernel)",
      "language": "python",
      "name": "python3"
    },
    "language_info": {
      "codemirror_mode": {
        "name": "ipython",
        "version": 3
      },
      "file_extension": ".py",
      "mimetype": "text/x-python",
      "name": "python",
      "nbconvert_exporter": "python",
      "pygments_lexer": "ipython3",
      "version": "3.9.7"
    }
  },
  "nbformat": 4,
  "nbformat_minor": 0
}